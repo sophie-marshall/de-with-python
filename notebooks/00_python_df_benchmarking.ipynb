{
 "cells": [
  {
   "cell_type": "markdown",
   "metadata": {},
   "source": [
    "# Python DataFrame Query Benchmarks \n",
    "\n",
    "Follow along notebook from ibis article aiming to compare and contrast availble dataframe processing libraries for python \n",
    "\n",
    "**Article Link:** https://ibis-project.org/posts/1tbc/"
   ]
  },
  {
   "cell_type": "markdown",
   "metadata": {},
   "source": [
    "## Generating the Data"
   ]
  },
  {
   "cell_type": "code",
   "execution_count": null,
   "metadata": {
    "vscode": {
     "languageId": "shellscript"
    }
   },
   "outputs": [],
   "source": [
    "# generate TPC-H data with scale factor of 1\n",
    "bench gen-data -s 1"
   ]
  },
  {
   "cell_type": "markdown",
   "metadata": {},
   "source": [
    "## Benchmarking"
   ]
  },
  {
   "cell_type": "code",
   "execution_count": null,
   "metadata": {
    "vscode": {
     "languageId": "shellscript"
    }
   },
   "outputs": [],
   "source": [
    "# run a benchmark\n",
    "bench run -s 1 ibis-duckdb ibis-duckdb-sql ibis-datafusion ibis-datafusion-sql ibis-polars polars-lazy"
   ]
  },
  {
   "cell_type": "code",
   "execution_count": 10,
   "metadata": {},
   "outputs": [],
   "source": [
    "import os \n",
    "import glob\n",
    "import pandas as pd \n",
    "import polars as pl \n",
    "import plotly.express as px \n",
    "import ibis\n",
    "\n",
    "# set configs\n",
    "px.defaults.template = \"plotly_dark\"\n",
    "ibis.options.interactive = True"
   ]
  },
  {
   "cell_type": "code",
   "execution_count": 11,
   "metadata": {},
   "outputs": [
    {
     "name": "stdout",
     "output_type": "stream",
     "text": [
      "Total Rows: 8,661,245\n"
     ]
    }
   ],
   "source": [
    "# set data directory\n",
    "data_directory = \"../data/tpch_data/parquet/sf=1/n=1\"\n",
    "\n",
    "# load tables\n",
    "tables = glob.glob(f\"{data_directory}/*\")\n",
    "\n",
    "total_rows = 0\n",
    "\n",
    "# for each table, read the parquet and get the n observations \n",
    "for table in tables:\n",
    "    t = ibis.read_parquet(f\"{table}/*.parquet\")\n",
    "    total_rows += t.count().to_pyarrow().as_py()\n",
    "\n",
    "print(f\"Total Rows: {total_rows:,}\")"
   ]
  },
  {
   "cell_type": "code",
   "execution_count": 15,
   "metadata": {},
   "outputs": [
    {
     "name": "stdout",
     "output_type": "stream",
     "text": [
      "Total Size: 0.37 GBs (compressed Parquet files)\n"
     ]
    },
    {
     "ename": "ValueError",
     "evalue": "Mime type rendering requires nbformat>=4.2.0 but it is not installed",
     "output_type": "error",
     "traceback": [
      "\u001b[0;31m---------------------------------------------------------------------------\u001b[0m",
      "\u001b[0;31mValueError\u001b[0m                                Traceback (most recent call last)",
      "File \u001b[0;32m~/miniconda3/envs/etl/lib/python3.11/site-packages/IPython/core/formatters.py:925\u001b[0m, in \u001b[0;36mIPythonDisplayFormatter.__call__\u001b[0;34m(self, obj)\u001b[0m\n\u001b[1;32m    923\u001b[0m method \u001b[39m=\u001b[39m get_real_method(obj, \u001b[39mself\u001b[39m\u001b[39m.\u001b[39mprint_method)\n\u001b[1;32m    924\u001b[0m \u001b[39mif\u001b[39;00m method \u001b[39mis\u001b[39;00m \u001b[39mnot\u001b[39;00m \u001b[39mNone\u001b[39;00m:\n\u001b[0;32m--> 925\u001b[0m     method()\n\u001b[1;32m    926\u001b[0m     \u001b[39mreturn\u001b[39;00m \u001b[39mTrue\u001b[39;00m\n",
      "File \u001b[0;32m~/miniconda3/envs/etl/lib/python3.11/site-packages/plotly/basedatatypes.py:832\u001b[0m, in \u001b[0;36mBaseFigure._ipython_display_\u001b[0;34m(self)\u001b[0m\n\u001b[1;32m    829\u001b[0m \u001b[39mimport\u001b[39;00m \u001b[39mplotly\u001b[39;00m\u001b[39m.\u001b[39;00m\u001b[39mio\u001b[39;00m \u001b[39mas\u001b[39;00m \u001b[39mpio\u001b[39;00m\n\u001b[1;32m    831\u001b[0m \u001b[39mif\u001b[39;00m pio\u001b[39m.\u001b[39mrenderers\u001b[39m.\u001b[39mrender_on_display \u001b[39mand\u001b[39;00m pio\u001b[39m.\u001b[39mrenderers\u001b[39m.\u001b[39mdefault:\n\u001b[0;32m--> 832\u001b[0m     pio\u001b[39m.\u001b[39;49mshow(\u001b[39mself\u001b[39;49m)\n\u001b[1;32m    833\u001b[0m \u001b[39melse\u001b[39;00m:\n\u001b[1;32m    834\u001b[0m     \u001b[39mprint\u001b[39m(\u001b[39mrepr\u001b[39m(\u001b[39mself\u001b[39m))\n",
      "File \u001b[0;32m~/miniconda3/envs/etl/lib/python3.11/site-packages/plotly/io/_renderers.py:394\u001b[0m, in \u001b[0;36mshow\u001b[0;34m(fig, renderer, validate, **kwargs)\u001b[0m\n\u001b[1;32m    389\u001b[0m         \u001b[39mraise\u001b[39;00m \u001b[39mValueError\u001b[39;00m(\n\u001b[1;32m    390\u001b[0m             \u001b[39m\"\u001b[39m\u001b[39mMime type rendering requires ipython but it is not installed\u001b[39m\u001b[39m\"\u001b[39m\n\u001b[1;32m    391\u001b[0m         )\n\u001b[1;32m    393\u001b[0m     \u001b[39mif\u001b[39;00m \u001b[39mnot\u001b[39;00m nbformat \u001b[39mor\u001b[39;00m Version(nbformat\u001b[39m.\u001b[39m__version__) \u001b[39m<\u001b[39m Version(\u001b[39m\"\u001b[39m\u001b[39m4.2.0\u001b[39m\u001b[39m\"\u001b[39m):\n\u001b[0;32m--> 394\u001b[0m         \u001b[39mraise\u001b[39;00m \u001b[39mValueError\u001b[39;00m(\n\u001b[1;32m    395\u001b[0m             \u001b[39m\"\u001b[39m\u001b[39mMime type rendering requires nbformat>=4.2.0 but it is not installed\u001b[39m\u001b[39m\"\u001b[39m\n\u001b[1;32m    396\u001b[0m         )\n\u001b[1;32m    398\u001b[0m     ipython_display\u001b[39m.\u001b[39mdisplay(bundle, raw\u001b[39m=\u001b[39m\u001b[39mTrue\u001b[39;00m)\n\u001b[1;32m    400\u001b[0m \u001b[39m# external renderers\u001b[39;00m\n",
      "\u001b[0;31mValueError\u001b[0m: Mime type rendering requires nbformat>=4.2.0 but it is not installed"
     ]
    },
    {
     "data": {
      "application/vnd.plotly.v1+json": {
       "config": {
        "plotlyServerURL": "https://plot.ly"
       },
       "data": [
        {
         "alignmentgroup": "True",
         "customdata": [
          [
           0.5629459558054805
          ],
          [
           0.12667814269661903
          ],
          [
           0.09264558721333742
          ],
          [
           0.025901969708502292
          ],
          [
           0.014228745363652706
          ],
          [
           0.0016518658027052878
          ],
          [
           0.000004497356712818146
          ],
          [
           0.0000020857900381088256
          ]
         ],
         "hovertemplate": "table name=%{x}<br>Size (GB on-disk in compressed Parquet files)=%{y}<br>Size (approx. GB in memory)=%{customdata[0]}<extra></extra>",
         "legendgroup": "",
         "marker": {
          "color": "#636efa",
          "pattern": {
           "shape": ""
          }
         },
         "name": "",
         "offsetgroup": "",
         "orientation": "v",
         "showlegend": false,
         "textposition": "auto",
         "type": "bar",
         "x": [
          "lineitem",
          "orders",
          "partsupp",
          "customer",
          "part",
          "supplier",
          "nation",
          "region"
         ],
         "xaxis": "x",
         "y": [
          0.2558845253661275,
          0.05758097395300865,
          0.04211163055151701,
          0.01177362259477377,
          0.006467611528933048,
          0.0007508480921387672,
          0.0000020442530512809753,
          9.480863809585571e-7
         ],
         "yaxis": "y"
        }
       ],
       "layout": {
        "barmode": "relative",
        "legend": {
         "tracegroupgap": 0
        },
        "template": {
         "data": {
          "bar": [
           {
            "error_x": {
             "color": "#f2f5fa"
            },
            "error_y": {
             "color": "#f2f5fa"
            },
            "marker": {
             "line": {
              "color": "rgb(17,17,17)",
              "width": 0.5
             },
             "pattern": {
              "fillmode": "overlay",
              "size": 10,
              "solidity": 0.2
             }
            },
            "type": "bar"
           }
          ],
          "barpolar": [
           {
            "marker": {
             "line": {
              "color": "rgb(17,17,17)",
              "width": 0.5
             },
             "pattern": {
              "fillmode": "overlay",
              "size": 10,
              "solidity": 0.2
             }
            },
            "type": "barpolar"
           }
          ],
          "carpet": [
           {
            "aaxis": {
             "endlinecolor": "#A2B1C6",
             "gridcolor": "#506784",
             "linecolor": "#506784",
             "minorgridcolor": "#506784",
             "startlinecolor": "#A2B1C6"
            },
            "baxis": {
             "endlinecolor": "#A2B1C6",
             "gridcolor": "#506784",
             "linecolor": "#506784",
             "minorgridcolor": "#506784",
             "startlinecolor": "#A2B1C6"
            },
            "type": "carpet"
           }
          ],
          "choropleth": [
           {
            "colorbar": {
             "outlinewidth": 0,
             "ticks": ""
            },
            "type": "choropleth"
           }
          ],
          "contour": [
           {
            "colorbar": {
             "outlinewidth": 0,
             "ticks": ""
            },
            "colorscale": [
             [
              0,
              "#0d0887"
             ],
             [
              0.1111111111111111,
              "#46039f"
             ],
             [
              0.2222222222222222,
              "#7201a8"
             ],
             [
              0.3333333333333333,
              "#9c179e"
             ],
             [
              0.4444444444444444,
              "#bd3786"
             ],
             [
              0.5555555555555556,
              "#d8576b"
             ],
             [
              0.6666666666666666,
              "#ed7953"
             ],
             [
              0.7777777777777778,
              "#fb9f3a"
             ],
             [
              0.8888888888888888,
              "#fdca26"
             ],
             [
              1,
              "#f0f921"
             ]
            ],
            "type": "contour"
           }
          ],
          "contourcarpet": [
           {
            "colorbar": {
             "outlinewidth": 0,
             "ticks": ""
            },
            "type": "contourcarpet"
           }
          ],
          "heatmap": [
           {
            "colorbar": {
             "outlinewidth": 0,
             "ticks": ""
            },
            "colorscale": [
             [
              0,
              "#0d0887"
             ],
             [
              0.1111111111111111,
              "#46039f"
             ],
             [
              0.2222222222222222,
              "#7201a8"
             ],
             [
              0.3333333333333333,
              "#9c179e"
             ],
             [
              0.4444444444444444,
              "#bd3786"
             ],
             [
              0.5555555555555556,
              "#d8576b"
             ],
             [
              0.6666666666666666,
              "#ed7953"
             ],
             [
              0.7777777777777778,
              "#fb9f3a"
             ],
             [
              0.8888888888888888,
              "#fdca26"
             ],
             [
              1,
              "#f0f921"
             ]
            ],
            "type": "heatmap"
           }
          ],
          "heatmapgl": [
           {
            "colorbar": {
             "outlinewidth": 0,
             "ticks": ""
            },
            "colorscale": [
             [
              0,
              "#0d0887"
             ],
             [
              0.1111111111111111,
              "#46039f"
             ],
             [
              0.2222222222222222,
              "#7201a8"
             ],
             [
              0.3333333333333333,
              "#9c179e"
             ],
             [
              0.4444444444444444,
              "#bd3786"
             ],
             [
              0.5555555555555556,
              "#d8576b"
             ],
             [
              0.6666666666666666,
              "#ed7953"
             ],
             [
              0.7777777777777778,
              "#fb9f3a"
             ],
             [
              0.8888888888888888,
              "#fdca26"
             ],
             [
              1,
              "#f0f921"
             ]
            ],
            "type": "heatmapgl"
           }
          ],
          "histogram": [
           {
            "marker": {
             "pattern": {
              "fillmode": "overlay",
              "size": 10,
              "solidity": 0.2
             }
            },
            "type": "histogram"
           }
          ],
          "histogram2d": [
           {
            "colorbar": {
             "outlinewidth": 0,
             "ticks": ""
            },
            "colorscale": [
             [
              0,
              "#0d0887"
             ],
             [
              0.1111111111111111,
              "#46039f"
             ],
             [
              0.2222222222222222,
              "#7201a8"
             ],
             [
              0.3333333333333333,
              "#9c179e"
             ],
             [
              0.4444444444444444,
              "#bd3786"
             ],
             [
              0.5555555555555556,
              "#d8576b"
             ],
             [
              0.6666666666666666,
              "#ed7953"
             ],
             [
              0.7777777777777778,
              "#fb9f3a"
             ],
             [
              0.8888888888888888,
              "#fdca26"
             ],
             [
              1,
              "#f0f921"
             ]
            ],
            "type": "histogram2d"
           }
          ],
          "histogram2dcontour": [
           {
            "colorbar": {
             "outlinewidth": 0,
             "ticks": ""
            },
            "colorscale": [
             [
              0,
              "#0d0887"
             ],
             [
              0.1111111111111111,
              "#46039f"
             ],
             [
              0.2222222222222222,
              "#7201a8"
             ],
             [
              0.3333333333333333,
              "#9c179e"
             ],
             [
              0.4444444444444444,
              "#bd3786"
             ],
             [
              0.5555555555555556,
              "#d8576b"
             ],
             [
              0.6666666666666666,
              "#ed7953"
             ],
             [
              0.7777777777777778,
              "#fb9f3a"
             ],
             [
              0.8888888888888888,
              "#fdca26"
             ],
             [
              1,
              "#f0f921"
             ]
            ],
            "type": "histogram2dcontour"
           }
          ],
          "mesh3d": [
           {
            "colorbar": {
             "outlinewidth": 0,
             "ticks": ""
            },
            "type": "mesh3d"
           }
          ],
          "parcoords": [
           {
            "line": {
             "colorbar": {
              "outlinewidth": 0,
              "ticks": ""
             }
            },
            "type": "parcoords"
           }
          ],
          "pie": [
           {
            "automargin": true,
            "type": "pie"
           }
          ],
          "scatter": [
           {
            "marker": {
             "line": {
              "color": "#283442"
             }
            },
            "type": "scatter"
           }
          ],
          "scatter3d": [
           {
            "line": {
             "colorbar": {
              "outlinewidth": 0,
              "ticks": ""
             }
            },
            "marker": {
             "colorbar": {
              "outlinewidth": 0,
              "ticks": ""
             }
            },
            "type": "scatter3d"
           }
          ],
          "scattercarpet": [
           {
            "marker": {
             "colorbar": {
              "outlinewidth": 0,
              "ticks": ""
             }
            },
            "type": "scattercarpet"
           }
          ],
          "scattergeo": [
           {
            "marker": {
             "colorbar": {
              "outlinewidth": 0,
              "ticks": ""
             }
            },
            "type": "scattergeo"
           }
          ],
          "scattergl": [
           {
            "marker": {
             "line": {
              "color": "#283442"
             }
            },
            "type": "scattergl"
           }
          ],
          "scattermapbox": [
           {
            "marker": {
             "colorbar": {
              "outlinewidth": 0,
              "ticks": ""
             }
            },
            "type": "scattermapbox"
           }
          ],
          "scatterpolar": [
           {
            "marker": {
             "colorbar": {
              "outlinewidth": 0,
              "ticks": ""
             }
            },
            "type": "scatterpolar"
           }
          ],
          "scatterpolargl": [
           {
            "marker": {
             "colorbar": {
              "outlinewidth": 0,
              "ticks": ""
             }
            },
            "type": "scatterpolargl"
           }
          ],
          "scatterternary": [
           {
            "marker": {
             "colorbar": {
              "outlinewidth": 0,
              "ticks": ""
             }
            },
            "type": "scatterternary"
           }
          ],
          "surface": [
           {
            "colorbar": {
             "outlinewidth": 0,
             "ticks": ""
            },
            "colorscale": [
             [
              0,
              "#0d0887"
             ],
             [
              0.1111111111111111,
              "#46039f"
             ],
             [
              0.2222222222222222,
              "#7201a8"
             ],
             [
              0.3333333333333333,
              "#9c179e"
             ],
             [
              0.4444444444444444,
              "#bd3786"
             ],
             [
              0.5555555555555556,
              "#d8576b"
             ],
             [
              0.6666666666666666,
              "#ed7953"
             ],
             [
              0.7777777777777778,
              "#fb9f3a"
             ],
             [
              0.8888888888888888,
              "#fdca26"
             ],
             [
              1,
              "#f0f921"
             ]
            ],
            "type": "surface"
           }
          ],
          "table": [
           {
            "cells": {
             "fill": {
              "color": "#506784"
             },
             "line": {
              "color": "rgb(17,17,17)"
             }
            },
            "header": {
             "fill": {
              "color": "#2a3f5f"
             },
             "line": {
              "color": "rgb(17,17,17)"
             }
            },
            "type": "table"
           }
          ]
         },
         "layout": {
          "annotationdefaults": {
           "arrowcolor": "#f2f5fa",
           "arrowhead": 0,
           "arrowwidth": 1
          },
          "autotypenumbers": "strict",
          "coloraxis": {
           "colorbar": {
            "outlinewidth": 0,
            "ticks": ""
           }
          },
          "colorscale": {
           "diverging": [
            [
             0,
             "#8e0152"
            ],
            [
             0.1,
             "#c51b7d"
            ],
            [
             0.2,
             "#de77ae"
            ],
            [
             0.3,
             "#f1b6da"
            ],
            [
             0.4,
             "#fde0ef"
            ],
            [
             0.5,
             "#f7f7f7"
            ],
            [
             0.6,
             "#e6f5d0"
            ],
            [
             0.7,
             "#b8e186"
            ],
            [
             0.8,
             "#7fbc41"
            ],
            [
             0.9,
             "#4d9221"
            ],
            [
             1,
             "#276419"
            ]
           ],
           "sequential": [
            [
             0,
             "#0d0887"
            ],
            [
             0.1111111111111111,
             "#46039f"
            ],
            [
             0.2222222222222222,
             "#7201a8"
            ],
            [
             0.3333333333333333,
             "#9c179e"
            ],
            [
             0.4444444444444444,
             "#bd3786"
            ],
            [
             0.5555555555555556,
             "#d8576b"
            ],
            [
             0.6666666666666666,
             "#ed7953"
            ],
            [
             0.7777777777777778,
             "#fb9f3a"
            ],
            [
             0.8888888888888888,
             "#fdca26"
            ],
            [
             1,
             "#f0f921"
            ]
           ],
           "sequentialminus": [
            [
             0,
             "#0d0887"
            ],
            [
             0.1111111111111111,
             "#46039f"
            ],
            [
             0.2222222222222222,
             "#7201a8"
            ],
            [
             0.3333333333333333,
             "#9c179e"
            ],
            [
             0.4444444444444444,
             "#bd3786"
            ],
            [
             0.5555555555555556,
             "#d8576b"
            ],
            [
             0.6666666666666666,
             "#ed7953"
            ],
            [
             0.7777777777777778,
             "#fb9f3a"
            ],
            [
             0.8888888888888888,
             "#fdca26"
            ],
            [
             1,
             "#f0f921"
            ]
           ]
          },
          "colorway": [
           "#636efa",
           "#EF553B",
           "#00cc96",
           "#ab63fa",
           "#FFA15A",
           "#19d3f3",
           "#FF6692",
           "#B6E880",
           "#FF97FF",
           "#FECB52"
          ],
          "font": {
           "color": "#f2f5fa"
          },
          "geo": {
           "bgcolor": "rgb(17,17,17)",
           "lakecolor": "rgb(17,17,17)",
           "landcolor": "rgb(17,17,17)",
           "showlakes": true,
           "showland": true,
           "subunitcolor": "#506784"
          },
          "hoverlabel": {
           "align": "left"
          },
          "hovermode": "closest",
          "mapbox": {
           "style": "dark"
          },
          "paper_bgcolor": "rgb(17,17,17)",
          "plot_bgcolor": "rgb(17,17,17)",
          "polar": {
           "angularaxis": {
            "gridcolor": "#506784",
            "linecolor": "#506784",
            "ticks": ""
           },
           "bgcolor": "rgb(17,17,17)",
           "radialaxis": {
            "gridcolor": "#506784",
            "linecolor": "#506784",
            "ticks": ""
           }
          },
          "scene": {
           "xaxis": {
            "backgroundcolor": "rgb(17,17,17)",
            "gridcolor": "#506784",
            "gridwidth": 2,
            "linecolor": "#506784",
            "showbackground": true,
            "ticks": "",
            "zerolinecolor": "#C8D4E3"
           },
           "yaxis": {
            "backgroundcolor": "rgb(17,17,17)",
            "gridcolor": "#506784",
            "gridwidth": 2,
            "linecolor": "#506784",
            "showbackground": true,
            "ticks": "",
            "zerolinecolor": "#C8D4E3"
           },
           "zaxis": {
            "backgroundcolor": "rgb(17,17,17)",
            "gridcolor": "#506784",
            "gridwidth": 2,
            "linecolor": "#506784",
            "showbackground": true,
            "ticks": "",
            "zerolinecolor": "#C8D4E3"
           }
          },
          "shapedefaults": {
           "line": {
            "color": "#f2f5fa"
           }
          },
          "sliderdefaults": {
           "bgcolor": "#C8D4E3",
           "bordercolor": "rgb(17,17,17)",
           "borderwidth": 1,
           "tickwidth": 0
          },
          "ternary": {
           "aaxis": {
            "gridcolor": "#506784",
            "linecolor": "#506784",
            "ticks": ""
           },
           "baxis": {
            "gridcolor": "#506784",
            "linecolor": "#506784",
            "ticks": ""
           },
           "bgcolor": "rgb(17,17,17)",
           "caxis": {
            "gridcolor": "#506784",
            "linecolor": "#506784",
            "ticks": ""
           }
          },
          "title": {
           "x": 0.05
          },
          "updatemenudefaults": {
           "bgcolor": "#506784",
           "borderwidth": 0
          },
          "xaxis": {
           "automargin": true,
           "gridcolor": "#283442",
           "linecolor": "#506784",
           "ticks": "",
           "title": {
            "standoff": 15
           },
           "zerolinecolor": "#283442",
           "zerolinewidth": 2
          },
          "yaxis": {
           "automargin": true,
           "gridcolor": "#283442",
           "linecolor": "#506784",
           "ticks": "",
           "title": {
            "standoff": 15
           },
           "zerolinecolor": "#283442",
           "zerolinewidth": 2
          }
         }
        },
        "title": {
         "text": "Table Sizes in TPC-H Data"
        },
        "xaxis": {
         "anchor": "y",
         "domain": [
          0,
          1
         ],
         "title": {
          "text": "table name"
         }
        },
        "yaxis": {
         "anchor": "x",
         "domain": [
          0,
          1
         ],
         "title": {
          "text": "Size (GB on-disk in compressed Parquet files)"
         }
        }
       }
      },
      "text/html": [
       "<div>                        <script type=\"text/javascript\">window.PlotlyConfig = {MathJaxConfig: 'local'};</script>\n",
       "        <script charset=\"utf-8\" src=\"https://cdn.plot.ly/plotly-2.32.0.min.js\"></script>                <div id=\"08e77223-5470-4ec8-b247-9ea302b833aa\" class=\"plotly-graph-div\" style=\"height:100%; width:100%;\"></div>            <script type=\"text/javascript\">                                    window.PLOTLYENV=window.PLOTLYENV || {};                                    if (document.getElementById(\"08e77223-5470-4ec8-b247-9ea302b833aa\")) {                    Plotly.newPlot(                        \"08e77223-5470-4ec8-b247-9ea302b833aa\",                        [{\"alignmentgroup\":\"True\",\"customdata\":[[0.5629459558054805],[0.12667814269661903],[0.09264558721333742],[0.025901969708502292],[0.014228745363652706],[0.0016518658027052878],[4.497356712818146e-06],[2.0857900381088256e-06]],\"hovertemplate\":\"table name=%{x}\\u003cbr\\u003eSize (GB on-disk in compressed Parquet files)=%{y}\\u003cbr\\u003eSize (approx. GB in memory)=%{customdata[0]}\\u003cextra\\u003e\\u003c\\u002fextra\\u003e\",\"legendgroup\":\"\",\"marker\":{\"color\":\"#636efa\",\"pattern\":{\"shape\":\"\"}},\"name\":\"\",\"offsetgroup\":\"\",\"orientation\":\"v\",\"showlegend\":false,\"textposition\":\"auto\",\"x\":[\"lineitem\",\"orders\",\"partsupp\",\"customer\",\"part\",\"supplier\",\"nation\",\"region\"],\"xaxis\":\"x\",\"y\":[0.2558845253661275,0.05758097395300865,0.04211163055151701,0.01177362259477377,0.006467611528933048,0.0007508480921387672,2.0442530512809753e-06,9.480863809585571e-07],\"yaxis\":\"y\",\"type\":\"bar\"}],                        {\"template\":{\"data\":{\"barpolar\":[{\"marker\":{\"line\":{\"color\":\"rgb(17,17,17)\",\"width\":0.5},\"pattern\":{\"fillmode\":\"overlay\",\"size\":10,\"solidity\":0.2}},\"type\":\"barpolar\"}],\"bar\":[{\"error_x\":{\"color\":\"#f2f5fa\"},\"error_y\":{\"color\":\"#f2f5fa\"},\"marker\":{\"line\":{\"color\":\"rgb(17,17,17)\",\"width\":0.5},\"pattern\":{\"fillmode\":\"overlay\",\"size\":10,\"solidity\":0.2}},\"type\":\"bar\"}],\"carpet\":[{\"aaxis\":{\"endlinecolor\":\"#A2B1C6\",\"gridcolor\":\"#506784\",\"linecolor\":\"#506784\",\"minorgridcolor\":\"#506784\",\"startlinecolor\":\"#A2B1C6\"},\"baxis\":{\"endlinecolor\":\"#A2B1C6\",\"gridcolor\":\"#506784\",\"linecolor\":\"#506784\",\"minorgridcolor\":\"#506784\",\"startlinecolor\":\"#A2B1C6\"},\"type\":\"carpet\"}],\"choropleth\":[{\"colorbar\":{\"outlinewidth\":0,\"ticks\":\"\"},\"type\":\"choropleth\"}],\"contourcarpet\":[{\"colorbar\":{\"outlinewidth\":0,\"ticks\":\"\"},\"type\":\"contourcarpet\"}],\"contour\":[{\"colorbar\":{\"outlinewidth\":0,\"ticks\":\"\"},\"colorscale\":[[0.0,\"#0d0887\"],[0.1111111111111111,\"#46039f\"],[0.2222222222222222,\"#7201a8\"],[0.3333333333333333,\"#9c179e\"],[0.4444444444444444,\"#bd3786\"],[0.5555555555555556,\"#d8576b\"],[0.6666666666666666,\"#ed7953\"],[0.7777777777777778,\"#fb9f3a\"],[0.8888888888888888,\"#fdca26\"],[1.0,\"#f0f921\"]],\"type\":\"contour\"}],\"heatmapgl\":[{\"colorbar\":{\"outlinewidth\":0,\"ticks\":\"\"},\"colorscale\":[[0.0,\"#0d0887\"],[0.1111111111111111,\"#46039f\"],[0.2222222222222222,\"#7201a8\"],[0.3333333333333333,\"#9c179e\"],[0.4444444444444444,\"#bd3786\"],[0.5555555555555556,\"#d8576b\"],[0.6666666666666666,\"#ed7953\"],[0.7777777777777778,\"#fb9f3a\"],[0.8888888888888888,\"#fdca26\"],[1.0,\"#f0f921\"]],\"type\":\"heatmapgl\"}],\"heatmap\":[{\"colorbar\":{\"outlinewidth\":0,\"ticks\":\"\"},\"colorscale\":[[0.0,\"#0d0887\"],[0.1111111111111111,\"#46039f\"],[0.2222222222222222,\"#7201a8\"],[0.3333333333333333,\"#9c179e\"],[0.4444444444444444,\"#bd3786\"],[0.5555555555555556,\"#d8576b\"],[0.6666666666666666,\"#ed7953\"],[0.7777777777777778,\"#fb9f3a\"],[0.8888888888888888,\"#fdca26\"],[1.0,\"#f0f921\"]],\"type\":\"heatmap\"}],\"histogram2dcontour\":[{\"colorbar\":{\"outlinewidth\":0,\"ticks\":\"\"},\"colorscale\":[[0.0,\"#0d0887\"],[0.1111111111111111,\"#46039f\"],[0.2222222222222222,\"#7201a8\"],[0.3333333333333333,\"#9c179e\"],[0.4444444444444444,\"#bd3786\"],[0.5555555555555556,\"#d8576b\"],[0.6666666666666666,\"#ed7953\"],[0.7777777777777778,\"#fb9f3a\"],[0.8888888888888888,\"#fdca26\"],[1.0,\"#f0f921\"]],\"type\":\"histogram2dcontour\"}],\"histogram2d\":[{\"colorbar\":{\"outlinewidth\":0,\"ticks\":\"\"},\"colorscale\":[[0.0,\"#0d0887\"],[0.1111111111111111,\"#46039f\"],[0.2222222222222222,\"#7201a8\"],[0.3333333333333333,\"#9c179e\"],[0.4444444444444444,\"#bd3786\"],[0.5555555555555556,\"#d8576b\"],[0.6666666666666666,\"#ed7953\"],[0.7777777777777778,\"#fb9f3a\"],[0.8888888888888888,\"#fdca26\"],[1.0,\"#f0f921\"]],\"type\":\"histogram2d\"}],\"histogram\":[{\"marker\":{\"pattern\":{\"fillmode\":\"overlay\",\"size\":10,\"solidity\":0.2}},\"type\":\"histogram\"}],\"mesh3d\":[{\"colorbar\":{\"outlinewidth\":0,\"ticks\":\"\"},\"type\":\"mesh3d\"}],\"parcoords\":[{\"line\":{\"colorbar\":{\"outlinewidth\":0,\"ticks\":\"\"}},\"type\":\"parcoords\"}],\"pie\":[{\"automargin\":true,\"type\":\"pie\"}],\"scatter3d\":[{\"line\":{\"colorbar\":{\"outlinewidth\":0,\"ticks\":\"\"}},\"marker\":{\"colorbar\":{\"outlinewidth\":0,\"ticks\":\"\"}},\"type\":\"scatter3d\"}],\"scattercarpet\":[{\"marker\":{\"colorbar\":{\"outlinewidth\":0,\"ticks\":\"\"}},\"type\":\"scattercarpet\"}],\"scattergeo\":[{\"marker\":{\"colorbar\":{\"outlinewidth\":0,\"ticks\":\"\"}},\"type\":\"scattergeo\"}],\"scattergl\":[{\"marker\":{\"line\":{\"color\":\"#283442\"}},\"type\":\"scattergl\"}],\"scattermapbox\":[{\"marker\":{\"colorbar\":{\"outlinewidth\":0,\"ticks\":\"\"}},\"type\":\"scattermapbox\"}],\"scatterpolargl\":[{\"marker\":{\"colorbar\":{\"outlinewidth\":0,\"ticks\":\"\"}},\"type\":\"scatterpolargl\"}],\"scatterpolar\":[{\"marker\":{\"colorbar\":{\"outlinewidth\":0,\"ticks\":\"\"}},\"type\":\"scatterpolar\"}],\"scatter\":[{\"marker\":{\"line\":{\"color\":\"#283442\"}},\"type\":\"scatter\"}],\"scatterternary\":[{\"marker\":{\"colorbar\":{\"outlinewidth\":0,\"ticks\":\"\"}},\"type\":\"scatterternary\"}],\"surface\":[{\"colorbar\":{\"outlinewidth\":0,\"ticks\":\"\"},\"colorscale\":[[0.0,\"#0d0887\"],[0.1111111111111111,\"#46039f\"],[0.2222222222222222,\"#7201a8\"],[0.3333333333333333,\"#9c179e\"],[0.4444444444444444,\"#bd3786\"],[0.5555555555555556,\"#d8576b\"],[0.6666666666666666,\"#ed7953\"],[0.7777777777777778,\"#fb9f3a\"],[0.8888888888888888,\"#fdca26\"],[1.0,\"#f0f921\"]],\"type\":\"surface\"}],\"table\":[{\"cells\":{\"fill\":{\"color\":\"#506784\"},\"line\":{\"color\":\"rgb(17,17,17)\"}},\"header\":{\"fill\":{\"color\":\"#2a3f5f\"},\"line\":{\"color\":\"rgb(17,17,17)\"}},\"type\":\"table\"}]},\"layout\":{\"annotationdefaults\":{\"arrowcolor\":\"#f2f5fa\",\"arrowhead\":0,\"arrowwidth\":1},\"autotypenumbers\":\"strict\",\"coloraxis\":{\"colorbar\":{\"outlinewidth\":0,\"ticks\":\"\"}},\"colorscale\":{\"diverging\":[[0,\"#8e0152\"],[0.1,\"#c51b7d\"],[0.2,\"#de77ae\"],[0.3,\"#f1b6da\"],[0.4,\"#fde0ef\"],[0.5,\"#f7f7f7\"],[0.6,\"#e6f5d0\"],[0.7,\"#b8e186\"],[0.8,\"#7fbc41\"],[0.9,\"#4d9221\"],[1,\"#276419\"]],\"sequential\":[[0.0,\"#0d0887\"],[0.1111111111111111,\"#46039f\"],[0.2222222222222222,\"#7201a8\"],[0.3333333333333333,\"#9c179e\"],[0.4444444444444444,\"#bd3786\"],[0.5555555555555556,\"#d8576b\"],[0.6666666666666666,\"#ed7953\"],[0.7777777777777778,\"#fb9f3a\"],[0.8888888888888888,\"#fdca26\"],[1.0,\"#f0f921\"]],\"sequentialminus\":[[0.0,\"#0d0887\"],[0.1111111111111111,\"#46039f\"],[0.2222222222222222,\"#7201a8\"],[0.3333333333333333,\"#9c179e\"],[0.4444444444444444,\"#bd3786\"],[0.5555555555555556,\"#d8576b\"],[0.6666666666666666,\"#ed7953\"],[0.7777777777777778,\"#fb9f3a\"],[0.8888888888888888,\"#fdca26\"],[1.0,\"#f0f921\"]]},\"colorway\":[\"#636efa\",\"#EF553B\",\"#00cc96\",\"#ab63fa\",\"#FFA15A\",\"#19d3f3\",\"#FF6692\",\"#B6E880\",\"#FF97FF\",\"#FECB52\"],\"font\":{\"color\":\"#f2f5fa\"},\"geo\":{\"bgcolor\":\"rgb(17,17,17)\",\"lakecolor\":\"rgb(17,17,17)\",\"landcolor\":\"rgb(17,17,17)\",\"showlakes\":true,\"showland\":true,\"subunitcolor\":\"#506784\"},\"hoverlabel\":{\"align\":\"left\"},\"hovermode\":\"closest\",\"mapbox\":{\"style\":\"dark\"},\"paper_bgcolor\":\"rgb(17,17,17)\",\"plot_bgcolor\":\"rgb(17,17,17)\",\"polar\":{\"angularaxis\":{\"gridcolor\":\"#506784\",\"linecolor\":\"#506784\",\"ticks\":\"\"},\"bgcolor\":\"rgb(17,17,17)\",\"radialaxis\":{\"gridcolor\":\"#506784\",\"linecolor\":\"#506784\",\"ticks\":\"\"}},\"scene\":{\"xaxis\":{\"backgroundcolor\":\"rgb(17,17,17)\",\"gridcolor\":\"#506784\",\"gridwidth\":2,\"linecolor\":\"#506784\",\"showbackground\":true,\"ticks\":\"\",\"zerolinecolor\":\"#C8D4E3\"},\"yaxis\":{\"backgroundcolor\":\"rgb(17,17,17)\",\"gridcolor\":\"#506784\",\"gridwidth\":2,\"linecolor\":\"#506784\",\"showbackground\":true,\"ticks\":\"\",\"zerolinecolor\":\"#C8D4E3\"},\"zaxis\":{\"backgroundcolor\":\"rgb(17,17,17)\",\"gridcolor\":\"#506784\",\"gridwidth\":2,\"linecolor\":\"#506784\",\"showbackground\":true,\"ticks\":\"\",\"zerolinecolor\":\"#C8D4E3\"}},\"shapedefaults\":{\"line\":{\"color\":\"#f2f5fa\"}},\"sliderdefaults\":{\"bgcolor\":\"#C8D4E3\",\"bordercolor\":\"rgb(17,17,17)\",\"borderwidth\":1,\"tickwidth\":0},\"ternary\":{\"aaxis\":{\"gridcolor\":\"#506784\",\"linecolor\":\"#506784\",\"ticks\":\"\"},\"baxis\":{\"gridcolor\":\"#506784\",\"linecolor\":\"#506784\",\"ticks\":\"\"},\"bgcolor\":\"rgb(17,17,17)\",\"caxis\":{\"gridcolor\":\"#506784\",\"linecolor\":\"#506784\",\"ticks\":\"\"}},\"title\":{\"x\":0.05},\"updatemenudefaults\":{\"bgcolor\":\"#506784\",\"borderwidth\":0},\"xaxis\":{\"automargin\":true,\"gridcolor\":\"#283442\",\"linecolor\":\"#506784\",\"ticks\":\"\",\"title\":{\"standoff\":15},\"zerolinecolor\":\"#283442\",\"zerolinewidth\":2},\"yaxis\":{\"automargin\":true,\"gridcolor\":\"#283442\",\"linecolor\":\"#506784\",\"ticks\":\"\",\"title\":{\"standoff\":15},\"zerolinecolor\":\"#283442\",\"zerolinewidth\":2}}},\"xaxis\":{\"anchor\":\"y\",\"domain\":[0.0,1.0],\"title\":{\"text\":\"table name\"}},\"yaxis\":{\"anchor\":\"x\",\"domain\":[0.0,1.0],\"title\":{\"text\":\"Size (GB on-disk in compressed Parquet files)\"}},\"legend\":{\"tracegroupgap\":0},\"title\":{\"text\":\"Table Sizes in TPC-H Data\"},\"barmode\":\"relative\"},                        {\"responsive\": true}                    )                };                            </script>        </div>"
      ],
      "text/plain": [
       "Figure({\n",
       "    'data': [{'alignmentgroup': 'True',\n",
       "              'customdata': array([[5.62945956e-01],\n",
       "                                   [1.26678143e-01],\n",
       "                                   [9.26455872e-02],\n",
       "                                   [2.59019697e-02],\n",
       "                                   [1.42287454e-02],\n",
       "                                   [1.65186580e-03],\n",
       "                                   [4.49735671e-06],\n",
       "                                   [2.08579004e-06]]),\n",
       "              'hovertemplate': ('table name=%{x}<br>Size (GB on' ... '{customdata[0]}<extra></extra>'),\n",
       "              'legendgroup': '',\n",
       "              'marker': {'color': '#636efa', 'pattern': {'shape': ''}},\n",
       "              'name': '',\n",
       "              'offsetgroup': '',\n",
       "              'orientation': 'v',\n",
       "              'showlegend': False,\n",
       "              'textposition': 'auto',\n",
       "              'type': 'bar',\n",
       "              'x': array(['lineitem', 'orders', 'partsupp', 'customer', 'part', 'supplier',\n",
       "                          'nation', 'region'], dtype=object),\n",
       "              'xaxis': 'x',\n",
       "              'y': array([2.55884525e-01, 5.75809740e-02, 4.21116306e-02, 1.17736226e-02,\n",
       "                          6.46761153e-03, 7.50848092e-04, 2.04425305e-06, 9.48086381e-07]),\n",
       "              'yaxis': 'y'}],\n",
       "    'layout': {'barmode': 'relative',\n",
       "               'legend': {'tracegroupgap': 0},\n",
       "               'template': '...',\n",
       "               'title': {'text': 'Table Sizes in TPC-H Data'},\n",
       "               'xaxis': {'anchor': 'y', 'domain': [0.0, 1.0], 'title': {'text': 'table name'}},\n",
       "               'yaxis': {'anchor': 'x',\n",
       "                         'domain': [0.0, 1.0],\n",
       "                         'title': {'text': 'Size (GB on-disk in compressed Parquet files)'}}}\n",
       "})"
      ]
     },
     "execution_count": 15,
     "metadata": {},
     "output_type": "execute_result"
    }
   ],
   "source": [
    "def get_dir_size(path):\n",
    "    from pathlib import Path\n",
    "\n",
    "    return sum(p.stat().st_size for p in Path(path).rglob(\"*\") if p.is_file())\n",
    "\n",
    "sizes = [get_dir_size(table) for table in tables]\n",
    "names = [os.path.basename(table) for table in tables]\n",
    "\n",
    "tmp = ibis.memtable({\"name\": names, \"size\": sizes})\n",
    "tmp = tmp.mutate(size_gb=tmp[\"size\"] / (1024**3))\n",
    "tmp = tmp.mutate(size_gb_mem=tmp[\"size_gb\"] * 11 / 5)\n",
    "tmp = tmp.order_by(ibis.desc(\"size_gb\"))\n",
    "\n",
    "chart = px.bar(\n",
    "    tmp, \n",
    "    x=\"name\", \n",
    "    y=\"size_gb\", \n",
    "    title=\"Table Sizes in TPC-H Data\", \n",
    "    hover_data=[\"size_gb_mem\"], \n",
    "    labels={\n",
    "        \"name\": \"table name\", \n",
    "        \"size_gb\": \"Size (GB on-disk in compressed Parquet files)\", \n",
    "        \"size_gb_mem\": \"Size (approx. GB in memory)\"\n",
    "    }, \n",
    ")\n",
    "\n",
    "print(\n",
    "    f\"Total Size: {tmp['size_gb'].sum().to_pyarrow().as_py():,.2f} GBs (compressed Parquet files)\"\n",
    ")\n",
    "\n",
    "chart"
   ]
  },
  {
   "cell_type": "code",
   "execution_count": 16,
   "metadata": {},
   "outputs": [
    {
     "name": "stdout",
     "output_type": "stream",
     "text": [
      "Total Rows: 6,001,215 | Columns: 18\n"
     ]
    }
   ],
   "source": [
    "table_name = \"lineitem\"\n",
    "data = f\"{data_directory}/{table_name}/*.parquet\"\n",
    "\n",
    "t = ibis.read_parquet(data)\n",
    "print(f\"Total Rows: {t.count().to_pyarrow().as_py():,} | Columns: {len(t.columns)}\")"
   ]
  },
  {
   "cell_type": "markdown",
   "metadata": {},
   "source": [
    "### Display Comparison \n",
    "\n",
    "Which dataframe libraries allow you to view the data, how long is the load time?\n",
    "- Ibis and Polars with lazy execition and streaming provide optimal performance \n",
    "- Pandas and Polars eager force us to load data into memory before preview and therefore struggle a bit"
   ]
  },
  {
   "cell_type": "code",
   "execution_count": 22,
   "metadata": {},
   "outputs": [
    {
     "data": {
      "text/html": [
       "<pre style=\"white-space:pre;overflow-x:auto;line-height:normal;font-family:Menlo,'DejaVu Sans Mono',consolas,'Courier New',monospace\">┏━━━━━━━━━━━━┳━━━━━━━━━━━┳━━━━━━━━━━━┳━━━━━━━━━━━━━━┳━━━━━━━━━━━━━━━━┳━━━━━━━━━━━━━━━━━┳━━━━━━━━━━━━━━━━┳━━━━━━━━━━━━━━━━┳━━━━━━━━━━━━━━┳━━━━━━━━━━━━━━┳━━━━━━━━━━━━┳━━━━━━━━━━━━━━┳━━━━━━━━━━━━━━━┳━━━━━━━━━━━━━━━━━━━┳━━━━━━━━━━━━┳━━━━━━━━━━━━━━━━━━━━━━━━━━━━━━━━━━━━┳━━━━━━━┳━━━━━━━┓\n",
       "┃<span style=\"font-weight: bold\"> l_orderkey </span>┃<span style=\"font-weight: bold\"> l_partkey </span>┃<span style=\"font-weight: bold\"> l_suppkey </span>┃<span style=\"font-weight: bold\"> l_linenumber </span>┃<span style=\"font-weight: bold\"> l_quantity     </span>┃<span style=\"font-weight: bold\"> l_extendedprice </span>┃<span style=\"font-weight: bold\"> l_discount     </span>┃<span style=\"font-weight: bold\"> l_tax          </span>┃<span style=\"font-weight: bold\"> l_returnflag </span>┃<span style=\"font-weight: bold\"> l_linestatus </span>┃<span style=\"font-weight: bold\"> l_shipdate </span>┃<span style=\"font-weight: bold\"> l_commitdate </span>┃<span style=\"font-weight: bold\"> l_receiptdate </span>┃<span style=\"font-weight: bold\"> l_shipinstruct    </span>┃<span style=\"font-weight: bold\"> l_shipmode </span>┃<span style=\"font-weight: bold\"> l_comment                          </span>┃<span style=\"font-weight: bold\"> n     </span>┃<span style=\"font-weight: bold\"> sf    </span>┃\n",
       "┡━━━━━━━━━━━━╇━━━━━━━━━━━╇━━━━━━━━━━━╇━━━━━━━━━━━━━━╇━━━━━━━━━━━━━━━━╇━━━━━━━━━━━━━━━━━╇━━━━━━━━━━━━━━━━╇━━━━━━━━━━━━━━━━╇━━━━━━━━━━━━━━╇━━━━━━━━━━━━━━╇━━━━━━━━━━━━╇━━━━━━━━━━━━━━╇━━━━━━━━━━━━━━━╇━━━━━━━━━━━━━━━━━━━╇━━━━━━━━━━━━╇━━━━━━━━━━━━━━━━━━━━━━━━━━━━━━━━━━━━╇━━━━━━━╇━━━━━━━┩\n",
       "│ <span style=\"color: #7f7f7f; text-decoration-color: #7f7f7f\">int64</span>      │ <span style=\"color: #7f7f7f; text-decoration-color: #7f7f7f\">int64</span>     │ <span style=\"color: #7f7f7f; text-decoration-color: #7f7f7f\">int64</span>     │ <span style=\"color: #7f7f7f; text-decoration-color: #7f7f7f\">int64</span>        │ <span style=\"color: #7f7f7f; text-decoration-color: #7f7f7f\">decimal(15, 2)</span> │ <span style=\"color: #7f7f7f; text-decoration-color: #7f7f7f\">decimal(15, 2)</span>  │ <span style=\"color: #7f7f7f; text-decoration-color: #7f7f7f\">decimal(15, 2)</span> │ <span style=\"color: #7f7f7f; text-decoration-color: #7f7f7f\">decimal(15, 2)</span> │ <span style=\"color: #7f7f7f; text-decoration-color: #7f7f7f\">string</span>       │ <span style=\"color: #7f7f7f; text-decoration-color: #7f7f7f\">string</span>       │ <span style=\"color: #7f7f7f; text-decoration-color: #7f7f7f\">date</span>       │ <span style=\"color: #7f7f7f; text-decoration-color: #7f7f7f\">date</span>         │ <span style=\"color: #7f7f7f; text-decoration-color: #7f7f7f\">date</span>          │ <span style=\"color: #7f7f7f; text-decoration-color: #7f7f7f\">string</span>            │ <span style=\"color: #7f7f7f; text-decoration-color: #7f7f7f\">string</span>     │ <span style=\"color: #7f7f7f; text-decoration-color: #7f7f7f\">string</span>                             │ <span style=\"color: #7f7f7f; text-decoration-color: #7f7f7f\">int64</span> │ <span style=\"color: #7f7f7f; text-decoration-color: #7f7f7f\">int64</span> │\n",
       "├────────────┼───────────┼───────────┼──────────────┼────────────────┼─────────────────┼────────────────┼────────────────┼──────────────┼──────────────┼────────────┼──────────────┼───────────────┼───────────────────┼────────────┼────────────────────────────────────┼───────┼───────┤\n",
       "│          <span style=\"color: #008080; text-decoration-color: #008080; font-weight: bold\">1</span> │    <span style=\"color: #008080; text-decoration-color: #008080; font-weight: bold\">155190</span> │      <span style=\"color: #008080; text-decoration-color: #008080; font-weight: bold\">7706</span> │            <span style=\"color: #008080; text-decoration-color: #008080; font-weight: bold\">1</span> │          <span style=\"color: #008080; text-decoration-color: #008080; font-weight: bold\">17.00</span> │        <span style=\"color: #008080; text-decoration-color: #008080; font-weight: bold\">21168.23</span> │           <span style=\"color: #008080; text-decoration-color: #008080; font-weight: bold\">0.04</span> │           <span style=\"color: #008080; text-decoration-color: #008080; font-weight: bold\">0.02</span> │ <span style=\"color: #008000; text-decoration-color: #008000\">N           </span> │ <span style=\"color: #008000; text-decoration-color: #008000\">O           </span> │ <span style=\"color: #800080; text-decoration-color: #800080\">1996-03-13</span> │ <span style=\"color: #800080; text-decoration-color: #800080\">1996-02-12</span>   │ <span style=\"color: #800080; text-decoration-color: #800080\">1996-03-22</span>    │ <span style=\"color: #008000; text-decoration-color: #008000\">DELIVER IN PERSON</span> │ <span style=\"color: #008000; text-decoration-color: #008000\">TRUCK     </span> │ <span style=\"color: #008000; text-decoration-color: #008000\">to beans x-ray carefull           </span> │     <span style=\"color: #008080; text-decoration-color: #008080; font-weight: bold\">1</span> │     <span style=\"color: #008080; text-decoration-color: #008080; font-weight: bold\">1</span> │\n",
       "│          <span style=\"color: #008080; text-decoration-color: #008080; font-weight: bold\">1</span> │     <span style=\"color: #008080; text-decoration-color: #008080; font-weight: bold\">67310</span> │      <span style=\"color: #008080; text-decoration-color: #008080; font-weight: bold\">7311</span> │            <span style=\"color: #008080; text-decoration-color: #008080; font-weight: bold\">2</span> │          <span style=\"color: #008080; text-decoration-color: #008080; font-weight: bold\">36.00</span> │        <span style=\"color: #008080; text-decoration-color: #008080; font-weight: bold\">45983.16</span> │           <span style=\"color: #008080; text-decoration-color: #008080; font-weight: bold\">0.09</span> │           <span style=\"color: #008080; text-decoration-color: #008080; font-weight: bold\">0.06</span> │ <span style=\"color: #008000; text-decoration-color: #008000\">N           </span> │ <span style=\"color: #008000; text-decoration-color: #008000\">O           </span> │ <span style=\"color: #800080; text-decoration-color: #800080\">1996-04-12</span> │ <span style=\"color: #800080; text-decoration-color: #800080\">1996-02-28</span>   │ <span style=\"color: #800080; text-decoration-color: #800080\">1996-04-20</span>    │ <span style=\"color: #008000; text-decoration-color: #008000\">TAKE BACK RETURN </span> │ <span style=\"color: #008000; text-decoration-color: #008000\">MAIL      </span> │ <span style=\"color: #008000; text-decoration-color: #008000\"> according to the final foxes. qui</span> │     <span style=\"color: #008080; text-decoration-color: #008080; font-weight: bold\">1</span> │     <span style=\"color: #008080; text-decoration-color: #008080; font-weight: bold\">1</span> │\n",
       "│          <span style=\"color: #008080; text-decoration-color: #008080; font-weight: bold\">1</span> │     <span style=\"color: #008080; text-decoration-color: #008080; font-weight: bold\">63700</span> │      <span style=\"color: #008080; text-decoration-color: #008080; font-weight: bold\">3701</span> │            <span style=\"color: #008080; text-decoration-color: #008080; font-weight: bold\">3</span> │           <span style=\"color: #008080; text-decoration-color: #008080; font-weight: bold\">8.00</span> │        <span style=\"color: #008080; text-decoration-color: #008080; font-weight: bold\">13309.60</span> │           <span style=\"color: #008080; text-decoration-color: #008080; font-weight: bold\">0.10</span> │           <span style=\"color: #008080; text-decoration-color: #008080; font-weight: bold\">0.02</span> │ <span style=\"color: #008000; text-decoration-color: #008000\">N           </span> │ <span style=\"color: #008000; text-decoration-color: #008000\">O           </span> │ <span style=\"color: #800080; text-decoration-color: #800080\">1996-01-29</span> │ <span style=\"color: #800080; text-decoration-color: #800080\">1996-03-05</span>   │ <span style=\"color: #800080; text-decoration-color: #800080\">1996-01-31</span>    │ <span style=\"color: #008000; text-decoration-color: #008000\">TAKE BACK RETURN </span> │ <span style=\"color: #008000; text-decoration-color: #008000\">REG AIR   </span> │ <span style=\"color: #008000; text-decoration-color: #008000\">ourts cajole above the furiou     </span> │     <span style=\"color: #008080; text-decoration-color: #008080; font-weight: bold\">1</span> │     <span style=\"color: #008080; text-decoration-color: #008080; font-weight: bold\">1</span> │\n",
       "└────────────┴───────────┴───────────┴──────────────┴────────────────┴─────────────────┴────────────────┴────────────────┴──────────────┴──────────────┴────────────┴──────────────┴───────────────┴───────────────────┴────────────┴────────────────────────────────────┴───────┴───────┘\n",
       "</pre>\n"
      ],
      "text/plain": [
       "┏━━━━━━━━━━━━┳━━━━━━━━━━━┳━━━━━━━━━━━┳━━━━━━━━━━━━━━┳━━━━━━━━━━━━━━━━┳━━━━━━━━━━━━━━━━━┳━━━━━━━━━━━━━━━━┳━━━━━━━━━━━━━━━━┳━━━━━━━━━━━━━━┳━━━━━━━━━━━━━━┳━━━━━━━━━━━━┳━━━━━━━━━━━━━━┳━━━━━━━━━━━━━━━┳━━━━━━━━━━━━━━━━━━━┳━━━━━━━━━━━━┳━━━━━━━━━━━━━━━━━━━━━━━━━━━━━━━━━━━━┳━━━━━━━┳━━━━━━━┓\n",
       "┃\u001b[1m \u001b[0m\u001b[1ml_orderkey\u001b[0m\u001b[1m \u001b[0m┃\u001b[1m \u001b[0m\u001b[1ml_partkey\u001b[0m\u001b[1m \u001b[0m┃\u001b[1m \u001b[0m\u001b[1ml_suppkey\u001b[0m\u001b[1m \u001b[0m┃\u001b[1m \u001b[0m\u001b[1ml_linenumber\u001b[0m\u001b[1m \u001b[0m┃\u001b[1m \u001b[0m\u001b[1ml_quantity\u001b[0m\u001b[1m    \u001b[0m\u001b[1m \u001b[0m┃\u001b[1m \u001b[0m\u001b[1ml_extendedprice\u001b[0m\u001b[1m \u001b[0m┃\u001b[1m \u001b[0m\u001b[1ml_discount\u001b[0m\u001b[1m    \u001b[0m\u001b[1m \u001b[0m┃\u001b[1m \u001b[0m\u001b[1ml_tax\u001b[0m\u001b[1m         \u001b[0m\u001b[1m \u001b[0m┃\u001b[1m \u001b[0m\u001b[1ml_returnflag\u001b[0m\u001b[1m \u001b[0m┃\u001b[1m \u001b[0m\u001b[1ml_linestatus\u001b[0m\u001b[1m \u001b[0m┃\u001b[1m \u001b[0m\u001b[1ml_shipdate\u001b[0m\u001b[1m \u001b[0m┃\u001b[1m \u001b[0m\u001b[1ml_commitdate\u001b[0m\u001b[1m \u001b[0m┃\u001b[1m \u001b[0m\u001b[1ml_receiptdate\u001b[0m\u001b[1m \u001b[0m┃\u001b[1m \u001b[0m\u001b[1ml_shipinstruct\u001b[0m\u001b[1m   \u001b[0m\u001b[1m \u001b[0m┃\u001b[1m \u001b[0m\u001b[1ml_shipmode\u001b[0m\u001b[1m \u001b[0m┃\u001b[1m \u001b[0m\u001b[1ml_comment\u001b[0m\u001b[1m                         \u001b[0m\u001b[1m \u001b[0m┃\u001b[1m \u001b[0m\u001b[1mn\u001b[0m\u001b[1m    \u001b[0m\u001b[1m \u001b[0m┃\u001b[1m \u001b[0m\u001b[1msf\u001b[0m\u001b[1m   \u001b[0m\u001b[1m \u001b[0m┃\n",
       "┡━━━━━━━━━━━━╇━━━━━━━━━━━╇━━━━━━━━━━━╇━━━━━━━━━━━━━━╇━━━━━━━━━━━━━━━━╇━━━━━━━━━━━━━━━━━╇━━━━━━━━━━━━━━━━╇━━━━━━━━━━━━━━━━╇━━━━━━━━━━━━━━╇━━━━━━━━━━━━━━╇━━━━━━━━━━━━╇━━━━━━━━━━━━━━╇━━━━━━━━━━━━━━━╇━━━━━━━━━━━━━━━━━━━╇━━━━━━━━━━━━╇━━━━━━━━━━━━━━━━━━━━━━━━━━━━━━━━━━━━╇━━━━━━━╇━━━━━━━┩\n",
       "│ \u001b[2mint64\u001b[0m      │ \u001b[2mint64\u001b[0m     │ \u001b[2mint64\u001b[0m     │ \u001b[2mint64\u001b[0m        │ \u001b[2mdecimal(15, 2)\u001b[0m │ \u001b[2mdecimal(15, 2)\u001b[0m  │ \u001b[2mdecimal(15, 2)\u001b[0m │ \u001b[2mdecimal(15, 2)\u001b[0m │ \u001b[2mstring\u001b[0m       │ \u001b[2mstring\u001b[0m       │ \u001b[2mdate\u001b[0m       │ \u001b[2mdate\u001b[0m         │ \u001b[2mdate\u001b[0m          │ \u001b[2mstring\u001b[0m            │ \u001b[2mstring\u001b[0m     │ \u001b[2mstring\u001b[0m                             │ \u001b[2mint64\u001b[0m │ \u001b[2mint64\u001b[0m │\n",
       "├────────────┼───────────┼───────────┼──────────────┼────────────────┼─────────────────┼────────────────┼────────────────┼──────────────┼──────────────┼────────────┼──────────────┼───────────────┼───────────────────┼────────────┼────────────────────────────────────┼───────┼───────┤\n",
       "│          \u001b[1;36m1\u001b[0m │    \u001b[1;36m155190\u001b[0m │      \u001b[1;36m7706\u001b[0m │            \u001b[1;36m1\u001b[0m │          \u001b[1;36m17.00\u001b[0m │        \u001b[1;36m21168.23\u001b[0m │           \u001b[1;36m0.04\u001b[0m │           \u001b[1;36m0.02\u001b[0m │ \u001b[32mN           \u001b[0m │ \u001b[32mO           \u001b[0m │ \u001b[35m1996-03-13\u001b[0m │ \u001b[35m1996-02-12\u001b[0m   │ \u001b[35m1996-03-22\u001b[0m    │ \u001b[32mDELIVER IN PERSON\u001b[0m │ \u001b[32mTRUCK     \u001b[0m │ \u001b[32mto beans x-ray carefull           \u001b[0m │     \u001b[1;36m1\u001b[0m │     \u001b[1;36m1\u001b[0m │\n",
       "│          \u001b[1;36m1\u001b[0m │     \u001b[1;36m67310\u001b[0m │      \u001b[1;36m7311\u001b[0m │            \u001b[1;36m2\u001b[0m │          \u001b[1;36m36.00\u001b[0m │        \u001b[1;36m45983.16\u001b[0m │           \u001b[1;36m0.09\u001b[0m │           \u001b[1;36m0.06\u001b[0m │ \u001b[32mN           \u001b[0m │ \u001b[32mO           \u001b[0m │ \u001b[35m1996-04-12\u001b[0m │ \u001b[35m1996-02-28\u001b[0m   │ \u001b[35m1996-04-20\u001b[0m    │ \u001b[32mTAKE BACK RETURN \u001b[0m │ \u001b[32mMAIL      \u001b[0m │ \u001b[32m according to the final foxes. qui\u001b[0m │     \u001b[1;36m1\u001b[0m │     \u001b[1;36m1\u001b[0m │\n",
       "│          \u001b[1;36m1\u001b[0m │     \u001b[1;36m63700\u001b[0m │      \u001b[1;36m3701\u001b[0m │            \u001b[1;36m3\u001b[0m │           \u001b[1;36m8.00\u001b[0m │        \u001b[1;36m13309.60\u001b[0m │           \u001b[1;36m0.10\u001b[0m │           \u001b[1;36m0.02\u001b[0m │ \u001b[32mN           \u001b[0m │ \u001b[32mO           \u001b[0m │ \u001b[35m1996-01-29\u001b[0m │ \u001b[35m1996-03-05\u001b[0m   │ \u001b[35m1996-01-31\u001b[0m    │ \u001b[32mTAKE BACK RETURN \u001b[0m │ \u001b[32mREG AIR   \u001b[0m │ \u001b[32mourts cajole above the furiou     \u001b[0m │     \u001b[1;36m1\u001b[0m │     \u001b[1;36m1\u001b[0m │\n",
       "└────────────┴───────────┴───────────┴──────────────┴────────────────┴─────────────────┴────────────────┴────────────────┴──────────────┴──────────────┴────────────┴──────────────┴───────────────┴───────────────────┴────────────┴────────────────────────────────────┴───────┴───────┘"
      ]
     },
     "execution_count": 22,
     "metadata": {},
     "output_type": "execute_result"
    }
   ],
   "source": [
    "t = ibis.read_parquet(data)\n",
    "t.head(3)"
   ]
  },
  {
   "cell_type": "code",
   "execution_count": 23,
   "metadata": {},
   "outputs": [
    {
     "data": {
      "text/html": [
       "<div>\n",
       "<style scoped>\n",
       "    .dataframe tbody tr th:only-of-type {\n",
       "        vertical-align: middle;\n",
       "    }\n",
       "\n",
       "    .dataframe tbody tr th {\n",
       "        vertical-align: top;\n",
       "    }\n",
       "\n",
       "    .dataframe thead th {\n",
       "        text-align: right;\n",
       "    }\n",
       "</style>\n",
       "<table border=\"1\" class=\"dataframe\">\n",
       "  <thead>\n",
       "    <tr style=\"text-align: right;\">\n",
       "      <th></th>\n",
       "      <th>l_orderkey</th>\n",
       "      <th>l_partkey</th>\n",
       "      <th>l_suppkey</th>\n",
       "      <th>l_linenumber</th>\n",
       "      <th>l_quantity</th>\n",
       "      <th>l_extendedprice</th>\n",
       "      <th>l_discount</th>\n",
       "      <th>l_tax</th>\n",
       "      <th>l_returnflag</th>\n",
       "      <th>l_linestatus</th>\n",
       "      <th>l_shipdate</th>\n",
       "      <th>l_commitdate</th>\n",
       "      <th>l_receiptdate</th>\n",
       "      <th>l_shipinstruct</th>\n",
       "      <th>l_shipmode</th>\n",
       "      <th>l_comment</th>\n",
       "    </tr>\n",
       "  </thead>\n",
       "  <tbody>\n",
       "    <tr>\n",
       "      <th>0</th>\n",
       "      <td>1</td>\n",
       "      <td>155190</td>\n",
       "      <td>7706</td>\n",
       "      <td>1</td>\n",
       "      <td>17.00</td>\n",
       "      <td>21168.23</td>\n",
       "      <td>0.04</td>\n",
       "      <td>0.02</td>\n",
       "      <td>N</td>\n",
       "      <td>O</td>\n",
       "      <td>1996-03-13</td>\n",
       "      <td>1996-02-12</td>\n",
       "      <td>1996-03-22</td>\n",
       "      <td>DELIVER IN PERSON</td>\n",
       "      <td>TRUCK</td>\n",
       "      <td>to beans x-ray carefull</td>\n",
       "    </tr>\n",
       "    <tr>\n",
       "      <th>1</th>\n",
       "      <td>1</td>\n",
       "      <td>67310</td>\n",
       "      <td>7311</td>\n",
       "      <td>2</td>\n",
       "      <td>36.00</td>\n",
       "      <td>45983.16</td>\n",
       "      <td>0.09</td>\n",
       "      <td>0.06</td>\n",
       "      <td>N</td>\n",
       "      <td>O</td>\n",
       "      <td>1996-04-12</td>\n",
       "      <td>1996-02-28</td>\n",
       "      <td>1996-04-20</td>\n",
       "      <td>TAKE BACK RETURN</td>\n",
       "      <td>MAIL</td>\n",
       "      <td>according to the final foxes. qui</td>\n",
       "    </tr>\n",
       "    <tr>\n",
       "      <th>2</th>\n",
       "      <td>1</td>\n",
       "      <td>63700</td>\n",
       "      <td>3701</td>\n",
       "      <td>3</td>\n",
       "      <td>8.00</td>\n",
       "      <td>13309.60</td>\n",
       "      <td>0.10</td>\n",
       "      <td>0.02</td>\n",
       "      <td>N</td>\n",
       "      <td>O</td>\n",
       "      <td>1996-01-29</td>\n",
       "      <td>1996-03-05</td>\n",
       "      <td>1996-01-31</td>\n",
       "      <td>TAKE BACK RETURN</td>\n",
       "      <td>REG AIR</td>\n",
       "      <td>ourts cajole above the furiou</td>\n",
       "    </tr>\n",
       "  </tbody>\n",
       "</table>\n",
       "</div>"
      ],
      "text/plain": [
       "   l_orderkey  l_partkey  l_suppkey  l_linenumber l_quantity l_extendedprice  \\\n",
       "0           1     155190       7706             1      17.00        21168.23   \n",
       "1           1      67310       7311             2      36.00        45983.16   \n",
       "2           1      63700       3701             3       8.00        13309.60   \n",
       "\n",
       "  l_discount l_tax l_returnflag l_linestatus  l_shipdate l_commitdate  \\\n",
       "0       0.04  0.02            N            O  1996-03-13   1996-02-12   \n",
       "1       0.09  0.06            N            O  1996-04-12   1996-02-28   \n",
       "2       0.10  0.02            N            O  1996-01-29   1996-03-05   \n",
       "\n",
       "  l_receiptdate     l_shipinstruct l_shipmode  \\\n",
       "0    1996-03-22  DELIVER IN PERSON      TRUCK   \n",
       "1    1996-04-20   TAKE BACK RETURN       MAIL   \n",
       "2    1996-01-31   TAKE BACK RETURN    REG AIR   \n",
       "\n",
       "                            l_comment  \n",
       "0             to beans x-ray carefull  \n",
       "1   according to the final foxes. qui  \n",
       "2       ourts cajole above the furiou  "
      ]
     },
     "execution_count": 23,
     "metadata": {},
     "output_type": "execute_result"
    }
   ],
   "source": [
    "df = pd.concat([pd.read_parquet(f) for f in glob.glob(data)], ignore_index=True)\n",
    "df.head(3)"
   ]
  },
  {
   "cell_type": "code",
   "execution_count": 24,
   "metadata": {},
   "outputs": [
    {
     "data": {
      "text/html": [
       "<div><style>\n",
       ".dataframe > thead > tr,\n",
       ".dataframe > tbody > tr {\n",
       "  text-align: right;\n",
       "  white-space: pre-wrap;\n",
       "}\n",
       "</style>\n",
       "<small>shape: (3, 16)</small><table border=\"1\" class=\"dataframe\"><thead><tr><th>l_orderkey</th><th>l_partkey</th><th>l_suppkey</th><th>l_linenumber</th><th>l_quantity</th><th>l_extendedprice</th><th>l_discount</th><th>l_tax</th><th>l_returnflag</th><th>l_linestatus</th><th>l_shipdate</th><th>l_commitdate</th><th>l_receiptdate</th><th>l_shipinstruct</th><th>l_shipmode</th><th>l_comment</th></tr><tr><td>i64</td><td>i64</td><td>i64</td><td>i64</td><td>decimal[15,2]</td><td>decimal[15,2]</td><td>decimal[15,2]</td><td>decimal[15,2]</td><td>str</td><td>str</td><td>date</td><td>date</td><td>date</td><td>str</td><td>str</td><td>str</td></tr></thead><tbody><tr><td>1</td><td>155190</td><td>7706</td><td>1</td><td>17.00</td><td>21168.23</td><td>0.04</td><td>0.02</td><td>&quot;N&quot;</td><td>&quot;O&quot;</td><td>1996-03-13</td><td>1996-02-12</td><td>1996-03-22</td><td>&quot;DELIVER IN PERSON&quot;</td><td>&quot;TRUCK&quot;</td><td>&quot;to beans x-ray carefull&quot;</td></tr><tr><td>1</td><td>67310</td><td>7311</td><td>2</td><td>36.00</td><td>45983.16</td><td>0.09</td><td>0.06</td><td>&quot;N&quot;</td><td>&quot;O&quot;</td><td>1996-04-12</td><td>1996-02-28</td><td>1996-04-20</td><td>&quot;TAKE BACK RETURN&quot;</td><td>&quot;MAIL&quot;</td><td>&quot; according to the final foxes.…</td></tr><tr><td>1</td><td>63700</td><td>3701</td><td>3</td><td>8.00</td><td>13309.60</td><td>0.10</td><td>0.02</td><td>&quot;N&quot;</td><td>&quot;O&quot;</td><td>1996-01-29</td><td>1996-03-05</td><td>1996-01-31</td><td>&quot;TAKE BACK RETURN&quot;</td><td>&quot;REG AIR&quot;</td><td>&quot;ourts cajole above the furiou&quot;</td></tr></tbody></table></div>"
      ],
      "text/plain": [
       "shape: (3, 16)\n",
       "┌───────────┬───────────┬───────────┬───────────┬───┬───────────┬───────────┬───────────┬──────────┐\n",
       "│ l_orderke ┆ l_partkey ┆ l_suppkey ┆ l_linenum ┆ … ┆ l_receipt ┆ l_shipins ┆ l_shipmod ┆ l_commen │\n",
       "│ y         ┆ ---       ┆ ---       ┆ ber       ┆   ┆ date      ┆ truct     ┆ e         ┆ t        │\n",
       "│ ---       ┆ i64       ┆ i64       ┆ ---       ┆   ┆ ---       ┆ ---       ┆ ---       ┆ ---      │\n",
       "│ i64       ┆           ┆           ┆ i64       ┆   ┆ date      ┆ str       ┆ str       ┆ str      │\n",
       "╞═══════════╪═══════════╪═══════════╪═══════════╪═══╪═══════════╪═══════════╪═══════════╪══════════╡\n",
       "│ 1         ┆ 155190    ┆ 7706      ┆ 1         ┆ … ┆ 1996-03-2 ┆ DELIVER   ┆ TRUCK     ┆ to beans │\n",
       "│           ┆           ┆           ┆           ┆   ┆ 2         ┆ IN PERSON ┆           ┆ x-ray    │\n",
       "│           ┆           ┆           ┆           ┆   ┆           ┆           ┆           ┆ carefull │\n",
       "│ 1         ┆ 67310     ┆ 7311      ┆ 2         ┆ … ┆ 1996-04-2 ┆ TAKE BACK ┆ MAIL      ┆ accordin │\n",
       "│           ┆           ┆           ┆           ┆   ┆ 0         ┆ RETURN    ┆           ┆ g to the │\n",
       "│           ┆           ┆           ┆           ┆   ┆           ┆           ┆           ┆ final    │\n",
       "│           ┆           ┆           ┆           ┆   ┆           ┆           ┆           ┆ foxes.…  │\n",
       "│ 1         ┆ 63700     ┆ 3701      ┆ 3         ┆ … ┆ 1996-01-3 ┆ TAKE BACK ┆ REG AIR   ┆ ourts    │\n",
       "│           ┆           ┆           ┆           ┆   ┆ 1         ┆ RETURN    ┆           ┆ cajole   │\n",
       "│           ┆           ┆           ┆           ┆   ┆           ┆           ┆           ┆ above    │\n",
       "│           ┆           ┆           ┆           ┆   ┆           ┆           ┆           ┆ the      │\n",
       "│           ┆           ┆           ┆           ┆   ┆           ┆           ┆           ┆ furiou   │\n",
       "└───────────┴───────────┴───────────┴───────────┴───┴───────────┴───────────┴───────────┴──────────┘"
      ]
     },
     "execution_count": 24,
     "metadata": {},
     "output_type": "execute_result"
    }
   ],
   "source": [
    "# eager load\n",
    "df = pl.read_parquet(data)\n",
    "df.head(3)"
   ]
  },
  {
   "cell_type": "code",
   "execution_count": 25,
   "metadata": {},
   "outputs": [
    {
     "data": {
      "text/html": [
       "<div><style>\n",
       ".dataframe > thead > tr,\n",
       ".dataframe > tbody > tr {\n",
       "  text-align: right;\n",
       "  white-space: pre-wrap;\n",
       "}\n",
       "</style>\n",
       "<small>shape: (3, 16)</small><table border=\"1\" class=\"dataframe\"><thead><tr><th>l_orderkey</th><th>l_partkey</th><th>l_suppkey</th><th>l_linenumber</th><th>l_quantity</th><th>l_extendedprice</th><th>l_discount</th><th>l_tax</th><th>l_returnflag</th><th>l_linestatus</th><th>l_shipdate</th><th>l_commitdate</th><th>l_receiptdate</th><th>l_shipinstruct</th><th>l_shipmode</th><th>l_comment</th></tr><tr><td>i64</td><td>i64</td><td>i64</td><td>i64</td><td>decimal[15,2]</td><td>decimal[15,2]</td><td>decimal[15,2]</td><td>decimal[15,2]</td><td>str</td><td>str</td><td>date</td><td>date</td><td>date</td><td>str</td><td>str</td><td>str</td></tr></thead><tbody><tr><td>1</td><td>155190</td><td>7706</td><td>1</td><td>17.00</td><td>21168.23</td><td>0.04</td><td>0.02</td><td>&quot;N&quot;</td><td>&quot;O&quot;</td><td>1996-03-13</td><td>1996-02-12</td><td>1996-03-22</td><td>&quot;DELIVER IN PERSON&quot;</td><td>&quot;TRUCK&quot;</td><td>&quot;to beans x-ray carefull&quot;</td></tr><tr><td>1</td><td>67310</td><td>7311</td><td>2</td><td>36.00</td><td>45983.16</td><td>0.09</td><td>0.06</td><td>&quot;N&quot;</td><td>&quot;O&quot;</td><td>1996-04-12</td><td>1996-02-28</td><td>1996-04-20</td><td>&quot;TAKE BACK RETURN&quot;</td><td>&quot;MAIL&quot;</td><td>&quot; according to the final foxes.…</td></tr><tr><td>1</td><td>63700</td><td>3701</td><td>3</td><td>8.00</td><td>13309.60</td><td>0.10</td><td>0.02</td><td>&quot;N&quot;</td><td>&quot;O&quot;</td><td>1996-01-29</td><td>1996-03-05</td><td>1996-01-31</td><td>&quot;TAKE BACK RETURN&quot;</td><td>&quot;REG AIR&quot;</td><td>&quot;ourts cajole above the furiou&quot;</td></tr></tbody></table></div>"
      ],
      "text/plain": [
       "shape: (3, 16)\n",
       "┌───────────┬───────────┬───────────┬───────────┬───┬───────────┬───────────┬───────────┬──────────┐\n",
       "│ l_orderke ┆ l_partkey ┆ l_suppkey ┆ l_linenum ┆ … ┆ l_receipt ┆ l_shipins ┆ l_shipmod ┆ l_commen │\n",
       "│ y         ┆ ---       ┆ ---       ┆ ber       ┆   ┆ date      ┆ truct     ┆ e         ┆ t        │\n",
       "│ ---       ┆ i64       ┆ i64       ┆ ---       ┆   ┆ ---       ┆ ---       ┆ ---       ┆ ---      │\n",
       "│ i64       ┆           ┆           ┆ i64       ┆   ┆ date      ┆ str       ┆ str       ┆ str      │\n",
       "╞═══════════╪═══════════╪═══════════╪═══════════╪═══╪═══════════╪═══════════╪═══════════╪══════════╡\n",
       "│ 1         ┆ 155190    ┆ 7706      ┆ 1         ┆ … ┆ 1996-03-2 ┆ DELIVER   ┆ TRUCK     ┆ to beans │\n",
       "│           ┆           ┆           ┆           ┆   ┆ 2         ┆ IN PERSON ┆           ┆ x-ray    │\n",
       "│           ┆           ┆           ┆           ┆   ┆           ┆           ┆           ┆ carefull │\n",
       "│ 1         ┆ 67310     ┆ 7311      ┆ 2         ┆ … ┆ 1996-04-2 ┆ TAKE BACK ┆ MAIL      ┆ accordin │\n",
       "│           ┆           ┆           ┆           ┆   ┆ 0         ┆ RETURN    ┆           ┆ g to the │\n",
       "│           ┆           ┆           ┆           ┆   ┆           ┆           ┆           ┆ final    │\n",
       "│           ┆           ┆           ┆           ┆   ┆           ┆           ┆           ┆ foxes.…  │\n",
       "│ 1         ┆ 63700     ┆ 3701      ┆ 3         ┆ … ┆ 1996-01-3 ┆ TAKE BACK ┆ REG AIR   ┆ ourts    │\n",
       "│           ┆           ┆           ┆           ┆   ┆ 1         ┆ RETURN    ┆           ┆ cajole   │\n",
       "│           ┆           ┆           ┆           ┆   ┆           ┆           ┆           ┆ above    │\n",
       "│           ┆           ┆           ┆           ┆   ┆           ┆           ┆           ┆ the      │\n",
       "│           ┆           ┆           ┆           ┆   ┆           ┆           ┆           ┆ furiou   │\n",
       "└───────────┴───────────┴───────────┴───────────┴───┴───────────┴───────────┴───────────┴──────────┘"
      ]
     },
     "execution_count": 25,
     "metadata": {},
     "output_type": "execute_result"
    }
   ],
   "source": [
    "# lazy load \n",
    "df = pl.scan_parquet(data)\n",
    "df.head(3).collect()"
   ]
  },
  {
   "cell_type": "code",
   "execution_count": 26,
   "metadata": {},
   "outputs": [
    {
     "data": {
      "text/html": [
       "<div><style>\n",
       ".dataframe > thead > tr,\n",
       ".dataframe > tbody > tr {\n",
       "  text-align: right;\n",
       "  white-space: pre-wrap;\n",
       "}\n",
       "</style>\n",
       "<small>shape: (3, 16)</small><table border=\"1\" class=\"dataframe\"><thead><tr><th>l_orderkey</th><th>l_partkey</th><th>l_suppkey</th><th>l_linenumber</th><th>l_quantity</th><th>l_extendedprice</th><th>l_discount</th><th>l_tax</th><th>l_returnflag</th><th>l_linestatus</th><th>l_shipdate</th><th>l_commitdate</th><th>l_receiptdate</th><th>l_shipinstruct</th><th>l_shipmode</th><th>l_comment</th></tr><tr><td>i64</td><td>i64</td><td>i64</td><td>i64</td><td>decimal[15,2]</td><td>decimal[15,2]</td><td>decimal[15,2]</td><td>decimal[15,2]</td><td>str</td><td>str</td><td>date</td><td>date</td><td>date</td><td>str</td><td>str</td><td>str</td></tr></thead><tbody><tr><td>1</td><td>155190</td><td>7706</td><td>1</td><td>17.00</td><td>21168.23</td><td>0.04</td><td>0.02</td><td>&quot;N&quot;</td><td>&quot;O&quot;</td><td>1996-03-13</td><td>1996-02-12</td><td>1996-03-22</td><td>&quot;DELIVER IN PERSON&quot;</td><td>&quot;TRUCK&quot;</td><td>&quot;to beans x-ray carefull&quot;</td></tr><tr><td>1</td><td>67310</td><td>7311</td><td>2</td><td>36.00</td><td>45983.16</td><td>0.09</td><td>0.06</td><td>&quot;N&quot;</td><td>&quot;O&quot;</td><td>1996-04-12</td><td>1996-02-28</td><td>1996-04-20</td><td>&quot;TAKE BACK RETURN&quot;</td><td>&quot;MAIL&quot;</td><td>&quot; according to the final foxes.…</td></tr><tr><td>1</td><td>63700</td><td>3701</td><td>3</td><td>8.00</td><td>13309.60</td><td>0.10</td><td>0.02</td><td>&quot;N&quot;</td><td>&quot;O&quot;</td><td>1996-01-29</td><td>1996-03-05</td><td>1996-01-31</td><td>&quot;TAKE BACK RETURN&quot;</td><td>&quot;REG AIR&quot;</td><td>&quot;ourts cajole above the furiou&quot;</td></tr></tbody></table></div>"
      ],
      "text/plain": [
       "shape: (3, 16)\n",
       "┌───────────┬───────────┬───────────┬───────────┬───┬───────────┬───────────┬───────────┬──────────┐\n",
       "│ l_orderke ┆ l_partkey ┆ l_suppkey ┆ l_linenum ┆ … ┆ l_receipt ┆ l_shipins ┆ l_shipmod ┆ l_commen │\n",
       "│ y         ┆ ---       ┆ ---       ┆ ber       ┆   ┆ date      ┆ truct     ┆ e         ┆ t        │\n",
       "│ ---       ┆ i64       ┆ i64       ┆ ---       ┆   ┆ ---       ┆ ---       ┆ ---       ┆ ---      │\n",
       "│ i64       ┆           ┆           ┆ i64       ┆   ┆ date      ┆ str       ┆ str       ┆ str      │\n",
       "╞═══════════╪═══════════╪═══════════╪═══════════╪═══╪═══════════╪═══════════╪═══════════╪══════════╡\n",
       "│ 1         ┆ 155190    ┆ 7706      ┆ 1         ┆ … ┆ 1996-03-2 ┆ DELIVER   ┆ TRUCK     ┆ to beans │\n",
       "│           ┆           ┆           ┆           ┆   ┆ 2         ┆ IN PERSON ┆           ┆ x-ray    │\n",
       "│           ┆           ┆           ┆           ┆   ┆           ┆           ┆           ┆ carefull │\n",
       "│ 1         ┆ 67310     ┆ 7311      ┆ 2         ┆ … ┆ 1996-04-2 ┆ TAKE BACK ┆ MAIL      ┆ accordin │\n",
       "│           ┆           ┆           ┆           ┆   ┆ 0         ┆ RETURN    ┆           ┆ g to the │\n",
       "│           ┆           ┆           ┆           ┆   ┆           ┆           ┆           ┆ final    │\n",
       "│           ┆           ┆           ┆           ┆   ┆           ┆           ┆           ┆ foxes.…  │\n",
       "│ 1         ┆ 63700     ┆ 3701      ┆ 3         ┆ … ┆ 1996-01-3 ┆ TAKE BACK ┆ REG AIR   ┆ ourts    │\n",
       "│           ┆           ┆           ┆           ┆   ┆ 1         ┆ RETURN    ┆           ┆ cajole   │\n",
       "│           ┆           ┆           ┆           ┆   ┆           ┆           ┆           ┆ above    │\n",
       "│           ┆           ┆           ┆           ┆   ┆           ┆           ┆           ┆ the      │\n",
       "│           ┆           ┆           ┆           ┆   ┆           ┆           ┆           ┆ furiou   │\n",
       "└───────────┴───────────┴───────────┴───────────┴───┴───────────┴───────────┴───────────┴──────────┘"
      ]
     },
     "execution_count": 26,
     "metadata": {},
     "output_type": "execute_result"
    }
   ],
   "source": [
    "# lazy stream the data \n",
    "df = pl.scan_parquet(data)\n",
    "df.head(3).collect(streaming=True)"
   ]
  },
  {
   "cell_type": "markdown",
   "metadata": {},
   "source": [
    "## Partial Sort Operations\n",
    "\n",
    "Force some columns from all rows to pass through a query engine, how do each of these libraries and query engiens fare?\n",
    "- Ibis with DuckDB and DataFusion complete without a hitch \n",
    "- Polars lazy is expected to crash as datasets grow larger"
   ]
  },
  {
   "cell_type": "code",
   "execution_count": 27,
   "metadata": {},
   "outputs": [
    {
     "data": {
      "text/html": [
       "<pre style=\"white-space:pre;overflow-x:auto;line-height:normal;font-family:Menlo,'DejaVu Sans Mono',consolas,'Courier New',monospace\">┏━━━━━━━━━━━━┳━━━━━━━━━━━┳━━━━━━━━━━━┳━━━━━━━━━━━━━━┳━━━━━━━━━━━━━━━━┳━━━━━━━━━━━━━━━━━┳━━━━━━━━━━━━━━━━┳━━━━━━━━━━━━━━━━┳━━━━━━━━━━━━━━┳━━━━━━━━━━━━━━┳━━━━━━━━━━━━┳━━━━━━━━━━━━━━┳━━━━━━━━━━━━━━━┳━━━━━━━━━━━━━━━━━━━┳━━━━━━━━━━━━┳━━━━━━━━━━━━━━━━━━━━━━━━━━┳━━━━━━━┳━━━━━━━┓\n",
       "┃<span style=\"font-weight: bold\"> l_orderkey </span>┃<span style=\"font-weight: bold\"> l_partkey </span>┃<span style=\"font-weight: bold\"> l_suppkey </span>┃<span style=\"font-weight: bold\"> l_linenumber </span>┃<span style=\"font-weight: bold\"> l_quantity     </span>┃<span style=\"font-weight: bold\"> l_extendedprice </span>┃<span style=\"font-weight: bold\"> l_discount     </span>┃<span style=\"font-weight: bold\"> l_tax          </span>┃<span style=\"font-weight: bold\"> l_returnflag </span>┃<span style=\"font-weight: bold\"> l_linestatus </span>┃<span style=\"font-weight: bold\"> l_shipdate </span>┃<span style=\"font-weight: bold\"> l_commitdate </span>┃<span style=\"font-weight: bold\"> l_receiptdate </span>┃<span style=\"font-weight: bold\"> l_shipinstruct    </span>┃<span style=\"font-weight: bold\"> l_shipmode </span>┃<span style=\"font-weight: bold\"> l_comment                </span>┃<span style=\"font-weight: bold\"> n     </span>┃<span style=\"font-weight: bold\"> sf    </span>┃\n",
       "┡━━━━━━━━━━━━╇━━━━━━━━━━━╇━━━━━━━━━━━╇━━━━━━━━━━━━━━╇━━━━━━━━━━━━━━━━╇━━━━━━━━━━━━━━━━━╇━━━━━━━━━━━━━━━━╇━━━━━━━━━━━━━━━━╇━━━━━━━━━━━━━━╇━━━━━━━━━━━━━━╇━━━━━━━━━━━━╇━━━━━━━━━━━━━━╇━━━━━━━━━━━━━━━╇━━━━━━━━━━━━━━━━━━━╇━━━━━━━━━━━━╇━━━━━━━━━━━━━━━━━━━━━━━━━━╇━━━━━━━╇━━━━━━━┩\n",
       "│ <span style=\"color: #7f7f7f; text-decoration-color: #7f7f7f\">int64</span>      │ <span style=\"color: #7f7f7f; text-decoration-color: #7f7f7f\">int64</span>     │ <span style=\"color: #7f7f7f; text-decoration-color: #7f7f7f\">int64</span>     │ <span style=\"color: #7f7f7f; text-decoration-color: #7f7f7f\">int64</span>        │ <span style=\"color: #7f7f7f; text-decoration-color: #7f7f7f\">decimal(15, 2)</span> │ <span style=\"color: #7f7f7f; text-decoration-color: #7f7f7f\">decimal(15, 2)</span>  │ <span style=\"color: #7f7f7f; text-decoration-color: #7f7f7f\">decimal(15, 2)</span> │ <span style=\"color: #7f7f7f; text-decoration-color: #7f7f7f\">decimal(15, 2)</span> │ <span style=\"color: #7f7f7f; text-decoration-color: #7f7f7f\">string</span>       │ <span style=\"color: #7f7f7f; text-decoration-color: #7f7f7f\">string</span>       │ <span style=\"color: #7f7f7f; text-decoration-color: #7f7f7f\">date</span>       │ <span style=\"color: #7f7f7f; text-decoration-color: #7f7f7f\">date</span>         │ <span style=\"color: #7f7f7f; text-decoration-color: #7f7f7f\">date</span>          │ <span style=\"color: #7f7f7f; text-decoration-color: #7f7f7f\">string</span>            │ <span style=\"color: #7f7f7f; text-decoration-color: #7f7f7f\">string</span>     │ <span style=\"color: #7f7f7f; text-decoration-color: #7f7f7f\">string</span>                   │ <span style=\"color: #7f7f7f; text-decoration-color: #7f7f7f\">int64</span> │ <span style=\"color: #7f7f7f; text-decoration-color: #7f7f7f\">int64</span> │\n",
       "├────────────┼───────────┼───────────┼──────────────┼────────────────┼─────────────────┼────────────────┼────────────────┼──────────────┼──────────────┼────────────┼──────────────┼───────────────┼───────────────────┼────────────┼──────────────────────────┼───────┼───────┤\n",
       "│          <span style=\"color: #008080; text-decoration-color: #008080; font-weight: bold\">1</span> │      <span style=\"color: #008080; text-decoration-color: #008080; font-weight: bold\">2132</span> │      <span style=\"color: #008080; text-decoration-color: #008080; font-weight: bold\">4633</span> │            <span style=\"color: #008080; text-decoration-color: #008080; font-weight: bold\">4</span> │          <span style=\"color: #008080; text-decoration-color: #008080; font-weight: bold\">28.00</span> │        <span style=\"color: #008080; text-decoration-color: #008080; font-weight: bold\">28955.64</span> │           <span style=\"color: #008080; text-decoration-color: #008080; font-weight: bold\">0.09</span> │           <span style=\"color: #008080; text-decoration-color: #008080; font-weight: bold\">0.06</span> │ <span style=\"color: #008000; text-decoration-color: #008000\">N           </span> │ <span style=\"color: #008000; text-decoration-color: #008000\">O           </span> │ <span style=\"color: #800080; text-decoration-color: #800080\">1996-04-21</span> │ <span style=\"color: #800080; text-decoration-color: #800080\">1996-03-30</span>   │ <span style=\"color: #800080; text-decoration-color: #800080\">1996-05-16</span>    │ <span style=\"color: #008000; text-decoration-color: #008000\">NONE             </span> │ <span style=\"color: #008000; text-decoration-color: #008000\">AIR       </span> │ <span style=\"color: #008000; text-decoration-color: #008000\">s cajole busily above t </span> │     <span style=\"color: #008080; text-decoration-color: #008080; font-weight: bold\">1</span> │     <span style=\"color: #008080; text-decoration-color: #008080; font-weight: bold\">1</span> │\n",
       "│          <span style=\"color: #008080; text-decoration-color: #008080; font-weight: bold\">1</span> │     <span style=\"color: #008080; text-decoration-color: #008080; font-weight: bold\">15635</span> │       <span style=\"color: #008080; text-decoration-color: #008080; font-weight: bold\">638</span> │            <span style=\"color: #008080; text-decoration-color: #008080; font-weight: bold\">6</span> │          <span style=\"color: #008080; text-decoration-color: #008080; font-weight: bold\">32.00</span> │        <span style=\"color: #008080; text-decoration-color: #008080; font-weight: bold\">49620.16</span> │           <span style=\"color: #008080; text-decoration-color: #008080; font-weight: bold\">0.07</span> │           <span style=\"color: #008080; text-decoration-color: #008080; font-weight: bold\">0.02</span> │ <span style=\"color: #008000; text-decoration-color: #008000\">N           </span> │ <span style=\"color: #008000; text-decoration-color: #008000\">O           </span> │ <span style=\"color: #800080; text-decoration-color: #800080\">1996-01-30</span> │ <span style=\"color: #800080; text-decoration-color: #800080\">1996-02-07</span>   │ <span style=\"color: #800080; text-decoration-color: #800080\">1996-02-03</span>    │ <span style=\"color: #008000; text-decoration-color: #008000\">DELIVER IN PERSON</span> │ <span style=\"color: #008000; text-decoration-color: #008000\">MAIL      </span> │ <span style=\"color: #008000; text-decoration-color: #008000\">rouches. special        </span> │     <span style=\"color: #008080; text-decoration-color: #008080; font-weight: bold\">1</span> │     <span style=\"color: #008080; text-decoration-color: #008080; font-weight: bold\">1</span> │\n",
       "│          <span style=\"color: #008080; text-decoration-color: #008080; font-weight: bold\">1</span> │     <span style=\"color: #008080; text-decoration-color: #008080; font-weight: bold\">24027</span> │      <span style=\"color: #008080; text-decoration-color: #008080; font-weight: bold\">1534</span> │            <span style=\"color: #008080; text-decoration-color: #008080; font-weight: bold\">5</span> │          <span style=\"color: #008080; text-decoration-color: #008080; font-weight: bold\">24.00</span> │        <span style=\"color: #008080; text-decoration-color: #008080; font-weight: bold\">22824.48</span> │           <span style=\"color: #008080; text-decoration-color: #008080; font-weight: bold\">0.10</span> │           <span style=\"color: #008080; text-decoration-color: #008080; font-weight: bold\">0.04</span> │ <span style=\"color: #008000; text-decoration-color: #008000\">N           </span> │ <span style=\"color: #008000; text-decoration-color: #008000\">O           </span> │ <span style=\"color: #800080; text-decoration-color: #800080\">1996-03-30</span> │ <span style=\"color: #800080; text-decoration-color: #800080\">1996-03-14</span>   │ <span style=\"color: #800080; text-decoration-color: #800080\">1996-04-01</span>    │ <span style=\"color: #008000; text-decoration-color: #008000\">NONE             </span> │ <span style=\"color: #008000; text-decoration-color: #008000\">FOB       </span> │ <span style=\"color: #008000; text-decoration-color: #008000\"> the regular, regular pa</span> │     <span style=\"color: #008080; text-decoration-color: #008080; font-weight: bold\">1</span> │     <span style=\"color: #008080; text-decoration-color: #008080; font-weight: bold\">1</span> │\n",
       "└────────────┴───────────┴───────────┴──────────────┴────────────────┴─────────────────┴────────────────┴────────────────┴──────────────┴──────────────┴────────────┴──────────────┴───────────────┴───────────────────┴────────────┴──────────────────────────┴───────┴───────┘\n",
       "</pre>\n"
      ],
      "text/plain": [
       "┏━━━━━━━━━━━━┳━━━━━━━━━━━┳━━━━━━━━━━━┳━━━━━━━━━━━━━━┳━━━━━━━━━━━━━━━━┳━━━━━━━━━━━━━━━━━┳━━━━━━━━━━━━━━━━┳━━━━━━━━━━━━━━━━┳━━━━━━━━━━━━━━┳━━━━━━━━━━━━━━┳━━━━━━━━━━━━┳━━━━━━━━━━━━━━┳━━━━━━━━━━━━━━━┳━━━━━━━━━━━━━━━━━━━┳━━━━━━━━━━━━┳━━━━━━━━━━━━━━━━━━━━━━━━━━┳━━━━━━━┳━━━━━━━┓\n",
       "┃\u001b[1m \u001b[0m\u001b[1ml_orderkey\u001b[0m\u001b[1m \u001b[0m┃\u001b[1m \u001b[0m\u001b[1ml_partkey\u001b[0m\u001b[1m \u001b[0m┃\u001b[1m \u001b[0m\u001b[1ml_suppkey\u001b[0m\u001b[1m \u001b[0m┃\u001b[1m \u001b[0m\u001b[1ml_linenumber\u001b[0m\u001b[1m \u001b[0m┃\u001b[1m \u001b[0m\u001b[1ml_quantity\u001b[0m\u001b[1m    \u001b[0m\u001b[1m \u001b[0m┃\u001b[1m \u001b[0m\u001b[1ml_extendedprice\u001b[0m\u001b[1m \u001b[0m┃\u001b[1m \u001b[0m\u001b[1ml_discount\u001b[0m\u001b[1m    \u001b[0m\u001b[1m \u001b[0m┃\u001b[1m \u001b[0m\u001b[1ml_tax\u001b[0m\u001b[1m         \u001b[0m\u001b[1m \u001b[0m┃\u001b[1m \u001b[0m\u001b[1ml_returnflag\u001b[0m\u001b[1m \u001b[0m┃\u001b[1m \u001b[0m\u001b[1ml_linestatus\u001b[0m\u001b[1m \u001b[0m┃\u001b[1m \u001b[0m\u001b[1ml_shipdate\u001b[0m\u001b[1m \u001b[0m┃\u001b[1m \u001b[0m\u001b[1ml_commitdate\u001b[0m\u001b[1m \u001b[0m┃\u001b[1m \u001b[0m\u001b[1ml_receiptdate\u001b[0m\u001b[1m \u001b[0m┃\u001b[1m \u001b[0m\u001b[1ml_shipinstruct\u001b[0m\u001b[1m   \u001b[0m\u001b[1m \u001b[0m┃\u001b[1m \u001b[0m\u001b[1ml_shipmode\u001b[0m\u001b[1m \u001b[0m┃\u001b[1m \u001b[0m\u001b[1ml_comment\u001b[0m\u001b[1m               \u001b[0m\u001b[1m \u001b[0m┃\u001b[1m \u001b[0m\u001b[1mn\u001b[0m\u001b[1m    \u001b[0m\u001b[1m \u001b[0m┃\u001b[1m \u001b[0m\u001b[1msf\u001b[0m\u001b[1m   \u001b[0m\u001b[1m \u001b[0m┃\n",
       "┡━━━━━━━━━━━━╇━━━━━━━━━━━╇━━━━━━━━━━━╇━━━━━━━━━━━━━━╇━━━━━━━━━━━━━━━━╇━━━━━━━━━━━━━━━━━╇━━━━━━━━━━━━━━━━╇━━━━━━━━━━━━━━━━╇━━━━━━━━━━━━━━╇━━━━━━━━━━━━━━╇━━━━━━━━━━━━╇━━━━━━━━━━━━━━╇━━━━━━━━━━━━━━━╇━━━━━━━━━━━━━━━━━━━╇━━━━━━━━━━━━╇━━━━━━━━━━━━━━━━━━━━━━━━━━╇━━━━━━━╇━━━━━━━┩\n",
       "│ \u001b[2mint64\u001b[0m      │ \u001b[2mint64\u001b[0m     │ \u001b[2mint64\u001b[0m     │ \u001b[2mint64\u001b[0m        │ \u001b[2mdecimal(15, 2)\u001b[0m │ \u001b[2mdecimal(15, 2)\u001b[0m  │ \u001b[2mdecimal(15, 2)\u001b[0m │ \u001b[2mdecimal(15, 2)\u001b[0m │ \u001b[2mstring\u001b[0m       │ \u001b[2mstring\u001b[0m       │ \u001b[2mdate\u001b[0m       │ \u001b[2mdate\u001b[0m         │ \u001b[2mdate\u001b[0m          │ \u001b[2mstring\u001b[0m            │ \u001b[2mstring\u001b[0m     │ \u001b[2mstring\u001b[0m                   │ \u001b[2mint64\u001b[0m │ \u001b[2mint64\u001b[0m │\n",
       "├────────────┼───────────┼───────────┼──────────────┼────────────────┼─────────────────┼────────────────┼────────────────┼──────────────┼──────────────┼────────────┼──────────────┼───────────────┼───────────────────┼────────────┼──────────────────────────┼───────┼───────┤\n",
       "│          \u001b[1;36m1\u001b[0m │      \u001b[1;36m2132\u001b[0m │      \u001b[1;36m4633\u001b[0m │            \u001b[1;36m4\u001b[0m │          \u001b[1;36m28.00\u001b[0m │        \u001b[1;36m28955.64\u001b[0m │           \u001b[1;36m0.09\u001b[0m │           \u001b[1;36m0.06\u001b[0m │ \u001b[32mN           \u001b[0m │ \u001b[32mO           \u001b[0m │ \u001b[35m1996-04-21\u001b[0m │ \u001b[35m1996-03-30\u001b[0m   │ \u001b[35m1996-05-16\u001b[0m    │ \u001b[32mNONE             \u001b[0m │ \u001b[32mAIR       \u001b[0m │ \u001b[32ms cajole busily above t \u001b[0m │     \u001b[1;36m1\u001b[0m │     \u001b[1;36m1\u001b[0m │\n",
       "│          \u001b[1;36m1\u001b[0m │     \u001b[1;36m15635\u001b[0m │       \u001b[1;36m638\u001b[0m │            \u001b[1;36m6\u001b[0m │          \u001b[1;36m32.00\u001b[0m │        \u001b[1;36m49620.16\u001b[0m │           \u001b[1;36m0.07\u001b[0m │           \u001b[1;36m0.02\u001b[0m │ \u001b[32mN           \u001b[0m │ \u001b[32mO           \u001b[0m │ \u001b[35m1996-01-30\u001b[0m │ \u001b[35m1996-02-07\u001b[0m   │ \u001b[35m1996-02-03\u001b[0m    │ \u001b[32mDELIVER IN PERSON\u001b[0m │ \u001b[32mMAIL      \u001b[0m │ \u001b[32mrouches. special        \u001b[0m │     \u001b[1;36m1\u001b[0m │     \u001b[1;36m1\u001b[0m │\n",
       "│          \u001b[1;36m1\u001b[0m │     \u001b[1;36m24027\u001b[0m │      \u001b[1;36m1534\u001b[0m │            \u001b[1;36m5\u001b[0m │          \u001b[1;36m24.00\u001b[0m │        \u001b[1;36m22824.48\u001b[0m │           \u001b[1;36m0.10\u001b[0m │           \u001b[1;36m0.04\u001b[0m │ \u001b[32mN           \u001b[0m │ \u001b[32mO           \u001b[0m │ \u001b[35m1996-03-30\u001b[0m │ \u001b[35m1996-03-14\u001b[0m   │ \u001b[35m1996-04-01\u001b[0m    │ \u001b[32mNONE             \u001b[0m │ \u001b[32mFOB       \u001b[0m │ \u001b[32m the regular, regular pa\u001b[0m │     \u001b[1;36m1\u001b[0m │     \u001b[1;36m1\u001b[0m │\n",
       "└────────────┴───────────┴───────────┴──────────────┴────────────────┴─────────────────┴────────────────┴────────────────┴──────────────┴──────────────┴────────────┴──────────────┴───────────────┴───────────────────┴────────────┴──────────────────────────┴───────┴───────┘"
      ]
     },
     "execution_count": 27,
     "metadata": {},
     "output_type": "execute_result"
    }
   ],
   "source": [
    "ibis.set_backend(\"duckdb\")\n",
    "t = ibis.read_parquet(data)\n",
    "t.order_by(t[\"l_orderkey\"], t[\"l_partkey\"], t[\"l_suppkey\"]).head(3)"
   ]
  },
  {
   "cell_type": "code",
   "execution_count": 28,
   "metadata": {},
   "outputs": [
    {
     "data": {
      "text/html": [
       "<pre style=\"white-space:pre;overflow-x:auto;line-height:normal;font-family:Menlo,'DejaVu Sans Mono',consolas,'Courier New',monospace\">┏━━━━━━━━━━━━┳━━━━━━━━━━━┳━━━━━━━━━━━┳━━━━━━━━━━━━━━┳━━━━━━━━━━━━━━━━┳━━━━━━━━━━━━━━━━━┳━━━━━━━━━━━━━━━━┳━━━━━━━━━━━━━━━━┳━━━━━━━━━━━━━━┳━━━━━━━━━━━━━━┳━━━━━━━━━━━━┳━━━━━━━━━━━━━━┳━━━━━━━━━━━━━━━┳━━━━━━━━━━━━━━━━━━━┳━━━━━━━━━━━━┳━━━━━━━━━━━━━━━━━━━━━━━━━━┓\n",
       "┃<span style=\"font-weight: bold\"> l_orderkey </span>┃<span style=\"font-weight: bold\"> l_partkey </span>┃<span style=\"font-weight: bold\"> l_suppkey </span>┃<span style=\"font-weight: bold\"> l_linenumber </span>┃<span style=\"font-weight: bold\"> l_quantity     </span>┃<span style=\"font-weight: bold\"> l_extendedprice </span>┃<span style=\"font-weight: bold\"> l_discount     </span>┃<span style=\"font-weight: bold\"> l_tax          </span>┃<span style=\"font-weight: bold\"> l_returnflag </span>┃<span style=\"font-weight: bold\"> l_linestatus </span>┃<span style=\"font-weight: bold\"> l_shipdate </span>┃<span style=\"font-weight: bold\"> l_commitdate </span>┃<span style=\"font-weight: bold\"> l_receiptdate </span>┃<span style=\"font-weight: bold\"> l_shipinstruct    </span>┃<span style=\"font-weight: bold\"> l_shipmode </span>┃<span style=\"font-weight: bold\"> l_comment                </span>┃\n",
       "┡━━━━━━━━━━━━╇━━━━━━━━━━━╇━━━━━━━━━━━╇━━━━━━━━━━━━━━╇━━━━━━━━━━━━━━━━╇━━━━━━━━━━━━━━━━━╇━━━━━━━━━━━━━━━━╇━━━━━━━━━━━━━━━━╇━━━━━━━━━━━━━━╇━━━━━━━━━━━━━━╇━━━━━━━━━━━━╇━━━━━━━━━━━━━━╇━━━━━━━━━━━━━━━╇━━━━━━━━━━━━━━━━━━━╇━━━━━━━━━━━━╇━━━━━━━━━━━━━━━━━━━━━━━━━━┩\n",
       "│ <span style=\"color: #7f7f7f; text-decoration-color: #7f7f7f\">int64</span>      │ <span style=\"color: #7f7f7f; text-decoration-color: #7f7f7f\">int64</span>     │ <span style=\"color: #7f7f7f; text-decoration-color: #7f7f7f\">int64</span>     │ <span style=\"color: #7f7f7f; text-decoration-color: #7f7f7f\">int64</span>        │ <span style=\"color: #7f7f7f; text-decoration-color: #7f7f7f\">decimal(15, 2)</span> │ <span style=\"color: #7f7f7f; text-decoration-color: #7f7f7f\">decimal(15, 2)</span>  │ <span style=\"color: #7f7f7f; text-decoration-color: #7f7f7f\">decimal(15, 2)</span> │ <span style=\"color: #7f7f7f; text-decoration-color: #7f7f7f\">decimal(15, 2)</span> │ <span style=\"color: #7f7f7f; text-decoration-color: #7f7f7f\">string</span>       │ <span style=\"color: #7f7f7f; text-decoration-color: #7f7f7f\">string</span>       │ <span style=\"color: #7f7f7f; text-decoration-color: #7f7f7f\">date</span>       │ <span style=\"color: #7f7f7f; text-decoration-color: #7f7f7f\">date</span>         │ <span style=\"color: #7f7f7f; text-decoration-color: #7f7f7f\">date</span>          │ <span style=\"color: #7f7f7f; text-decoration-color: #7f7f7f\">string</span>            │ <span style=\"color: #7f7f7f; text-decoration-color: #7f7f7f\">string</span>     │ <span style=\"color: #7f7f7f; text-decoration-color: #7f7f7f\">string</span>                   │\n",
       "├────────────┼───────────┼───────────┼──────────────┼────────────────┼─────────────────┼────────────────┼────────────────┼──────────────┼──────────────┼────────────┼──────────────┼───────────────┼───────────────────┼────────────┼──────────────────────────┤\n",
       "│          <span style=\"color: #008080; text-decoration-color: #008080; font-weight: bold\">1</span> │      <span style=\"color: #008080; text-decoration-color: #008080; font-weight: bold\">2132</span> │      <span style=\"color: #008080; text-decoration-color: #008080; font-weight: bold\">4633</span> │            <span style=\"color: #008080; text-decoration-color: #008080; font-weight: bold\">4</span> │          <span style=\"color: #008080; text-decoration-color: #008080; font-weight: bold\">28.00</span> │        <span style=\"color: #008080; text-decoration-color: #008080; font-weight: bold\">28955.64</span> │           <span style=\"color: #008080; text-decoration-color: #008080; font-weight: bold\">0.09</span> │           <span style=\"color: #008080; text-decoration-color: #008080; font-weight: bold\">0.06</span> │ <span style=\"color: #008000; text-decoration-color: #008000\">N           </span> │ <span style=\"color: #008000; text-decoration-color: #008000\">O           </span> │ <span style=\"color: #800080; text-decoration-color: #800080\">1996-04-21</span> │ <span style=\"color: #800080; text-decoration-color: #800080\">1996-03-30</span>   │ <span style=\"color: #800080; text-decoration-color: #800080\">1996-05-16</span>    │ <span style=\"color: #008000; text-decoration-color: #008000\">NONE             </span> │ <span style=\"color: #008000; text-decoration-color: #008000\">AIR       </span> │ <span style=\"color: #008000; text-decoration-color: #008000\">s cajole busily above t </span> │\n",
       "│          <span style=\"color: #008080; text-decoration-color: #008080; font-weight: bold\">1</span> │     <span style=\"color: #008080; text-decoration-color: #008080; font-weight: bold\">15635</span> │       <span style=\"color: #008080; text-decoration-color: #008080; font-weight: bold\">638</span> │            <span style=\"color: #008080; text-decoration-color: #008080; font-weight: bold\">6</span> │          <span style=\"color: #008080; text-decoration-color: #008080; font-weight: bold\">32.00</span> │        <span style=\"color: #008080; text-decoration-color: #008080; font-weight: bold\">49620.16</span> │           <span style=\"color: #008080; text-decoration-color: #008080; font-weight: bold\">0.07</span> │           <span style=\"color: #008080; text-decoration-color: #008080; font-weight: bold\">0.02</span> │ <span style=\"color: #008000; text-decoration-color: #008000\">N           </span> │ <span style=\"color: #008000; text-decoration-color: #008000\">O           </span> │ <span style=\"color: #800080; text-decoration-color: #800080\">1996-01-30</span> │ <span style=\"color: #800080; text-decoration-color: #800080\">1996-02-07</span>   │ <span style=\"color: #800080; text-decoration-color: #800080\">1996-02-03</span>    │ <span style=\"color: #008000; text-decoration-color: #008000\">DELIVER IN PERSON</span> │ <span style=\"color: #008000; text-decoration-color: #008000\">MAIL      </span> │ <span style=\"color: #008000; text-decoration-color: #008000\">rouches. special        </span> │\n",
       "│          <span style=\"color: #008080; text-decoration-color: #008080; font-weight: bold\">1</span> │     <span style=\"color: #008080; text-decoration-color: #008080; font-weight: bold\">24027</span> │      <span style=\"color: #008080; text-decoration-color: #008080; font-weight: bold\">1534</span> │            <span style=\"color: #008080; text-decoration-color: #008080; font-weight: bold\">5</span> │          <span style=\"color: #008080; text-decoration-color: #008080; font-weight: bold\">24.00</span> │        <span style=\"color: #008080; text-decoration-color: #008080; font-weight: bold\">22824.48</span> │           <span style=\"color: #008080; text-decoration-color: #008080; font-weight: bold\">0.10</span> │           <span style=\"color: #008080; text-decoration-color: #008080; font-weight: bold\">0.04</span> │ <span style=\"color: #008000; text-decoration-color: #008000\">N           </span> │ <span style=\"color: #008000; text-decoration-color: #008000\">O           </span> │ <span style=\"color: #800080; text-decoration-color: #800080\">1996-03-30</span> │ <span style=\"color: #800080; text-decoration-color: #800080\">1996-03-14</span>   │ <span style=\"color: #800080; text-decoration-color: #800080\">1996-04-01</span>    │ <span style=\"color: #008000; text-decoration-color: #008000\">NONE             </span> │ <span style=\"color: #008000; text-decoration-color: #008000\">FOB       </span> │ <span style=\"color: #008000; text-decoration-color: #008000\"> the regular, regular pa</span> │\n",
       "└────────────┴───────────┴───────────┴──────────────┴────────────────┴─────────────────┴────────────────┴────────────────┴──────────────┴──────────────┴────────────┴──────────────┴───────────────┴───────────────────┴────────────┴──────────────────────────┘\n",
       "</pre>\n"
      ],
      "text/plain": [
       "┏━━━━━━━━━━━━┳━━━━━━━━━━━┳━━━━━━━━━━━┳━━━━━━━━━━━━━━┳━━━━━━━━━━━━━━━━┳━━━━━━━━━━━━━━━━━┳━━━━━━━━━━━━━━━━┳━━━━━━━━━━━━━━━━┳━━━━━━━━━━━━━━┳━━━━━━━━━━━━━━┳━━━━━━━━━━━━┳━━━━━━━━━━━━━━┳━━━━━━━━━━━━━━━┳━━━━━━━━━━━━━━━━━━━┳━━━━━━━━━━━━┳━━━━━━━━━━━━━━━━━━━━━━━━━━┓\n",
       "┃\u001b[1m \u001b[0m\u001b[1ml_orderkey\u001b[0m\u001b[1m \u001b[0m┃\u001b[1m \u001b[0m\u001b[1ml_partkey\u001b[0m\u001b[1m \u001b[0m┃\u001b[1m \u001b[0m\u001b[1ml_suppkey\u001b[0m\u001b[1m \u001b[0m┃\u001b[1m \u001b[0m\u001b[1ml_linenumber\u001b[0m\u001b[1m \u001b[0m┃\u001b[1m \u001b[0m\u001b[1ml_quantity\u001b[0m\u001b[1m    \u001b[0m\u001b[1m \u001b[0m┃\u001b[1m \u001b[0m\u001b[1ml_extendedprice\u001b[0m\u001b[1m \u001b[0m┃\u001b[1m \u001b[0m\u001b[1ml_discount\u001b[0m\u001b[1m    \u001b[0m\u001b[1m \u001b[0m┃\u001b[1m \u001b[0m\u001b[1ml_tax\u001b[0m\u001b[1m         \u001b[0m\u001b[1m \u001b[0m┃\u001b[1m \u001b[0m\u001b[1ml_returnflag\u001b[0m\u001b[1m \u001b[0m┃\u001b[1m \u001b[0m\u001b[1ml_linestatus\u001b[0m\u001b[1m \u001b[0m┃\u001b[1m \u001b[0m\u001b[1ml_shipdate\u001b[0m\u001b[1m \u001b[0m┃\u001b[1m \u001b[0m\u001b[1ml_commitdate\u001b[0m\u001b[1m \u001b[0m┃\u001b[1m \u001b[0m\u001b[1ml_receiptdate\u001b[0m\u001b[1m \u001b[0m┃\u001b[1m \u001b[0m\u001b[1ml_shipinstruct\u001b[0m\u001b[1m   \u001b[0m\u001b[1m \u001b[0m┃\u001b[1m \u001b[0m\u001b[1ml_shipmode\u001b[0m\u001b[1m \u001b[0m┃\u001b[1m \u001b[0m\u001b[1ml_comment\u001b[0m\u001b[1m               \u001b[0m\u001b[1m \u001b[0m┃\n",
       "┡━━━━━━━━━━━━╇━━━━━━━━━━━╇━━━━━━━━━━━╇━━━━━━━━━━━━━━╇━━━━━━━━━━━━━━━━╇━━━━━━━━━━━━━━━━━╇━━━━━━━━━━━━━━━━╇━━━━━━━━━━━━━━━━╇━━━━━━━━━━━━━━╇━━━━━━━━━━━━━━╇━━━━━━━━━━━━╇━━━━━━━━━━━━━━╇━━━━━━━━━━━━━━━╇━━━━━━━━━━━━━━━━━━━╇━━━━━━━━━━━━╇━━━━━━━━━━━━━━━━━━━━━━━━━━┩\n",
       "│ \u001b[2mint64\u001b[0m      │ \u001b[2mint64\u001b[0m     │ \u001b[2mint64\u001b[0m     │ \u001b[2mint64\u001b[0m        │ \u001b[2mdecimal(15, 2)\u001b[0m │ \u001b[2mdecimal(15, 2)\u001b[0m  │ \u001b[2mdecimal(15, 2)\u001b[0m │ \u001b[2mdecimal(15, 2)\u001b[0m │ \u001b[2mstring\u001b[0m       │ \u001b[2mstring\u001b[0m       │ \u001b[2mdate\u001b[0m       │ \u001b[2mdate\u001b[0m         │ \u001b[2mdate\u001b[0m          │ \u001b[2mstring\u001b[0m            │ \u001b[2mstring\u001b[0m     │ \u001b[2mstring\u001b[0m                   │\n",
       "├────────────┼───────────┼───────────┼──────────────┼────────────────┼─────────────────┼────────────────┼────────────────┼──────────────┼──────────────┼────────────┼──────────────┼───────────────┼───────────────────┼────────────┼──────────────────────────┤\n",
       "│          \u001b[1;36m1\u001b[0m │      \u001b[1;36m2132\u001b[0m │      \u001b[1;36m4633\u001b[0m │            \u001b[1;36m4\u001b[0m │          \u001b[1;36m28.00\u001b[0m │        \u001b[1;36m28955.64\u001b[0m │           \u001b[1;36m0.09\u001b[0m │           \u001b[1;36m0.06\u001b[0m │ \u001b[32mN           \u001b[0m │ \u001b[32mO           \u001b[0m │ \u001b[35m1996-04-21\u001b[0m │ \u001b[35m1996-03-30\u001b[0m   │ \u001b[35m1996-05-16\u001b[0m    │ \u001b[32mNONE             \u001b[0m │ \u001b[32mAIR       \u001b[0m │ \u001b[32ms cajole busily above t \u001b[0m │\n",
       "│          \u001b[1;36m1\u001b[0m │     \u001b[1;36m15635\u001b[0m │       \u001b[1;36m638\u001b[0m │            \u001b[1;36m6\u001b[0m │          \u001b[1;36m32.00\u001b[0m │        \u001b[1;36m49620.16\u001b[0m │           \u001b[1;36m0.07\u001b[0m │           \u001b[1;36m0.02\u001b[0m │ \u001b[32mN           \u001b[0m │ \u001b[32mO           \u001b[0m │ \u001b[35m1996-01-30\u001b[0m │ \u001b[35m1996-02-07\u001b[0m   │ \u001b[35m1996-02-03\u001b[0m    │ \u001b[32mDELIVER IN PERSON\u001b[0m │ \u001b[32mMAIL      \u001b[0m │ \u001b[32mrouches. special        \u001b[0m │\n",
       "│          \u001b[1;36m1\u001b[0m │     \u001b[1;36m24027\u001b[0m │      \u001b[1;36m1534\u001b[0m │            \u001b[1;36m5\u001b[0m │          \u001b[1;36m24.00\u001b[0m │        \u001b[1;36m22824.48\u001b[0m │           \u001b[1;36m0.10\u001b[0m │           \u001b[1;36m0.04\u001b[0m │ \u001b[32mN           \u001b[0m │ \u001b[32mO           \u001b[0m │ \u001b[35m1996-03-30\u001b[0m │ \u001b[35m1996-03-14\u001b[0m   │ \u001b[35m1996-04-01\u001b[0m    │ \u001b[32mNONE             \u001b[0m │ \u001b[32mFOB       \u001b[0m │ \u001b[32m the regular, regular pa\u001b[0m │\n",
       "└────────────┴───────────┴───────────┴──────────────┴────────────────┴─────────────────┴────────────────┴────────────────┴──────────────┴──────────────┴────────────┴──────────────┴───────────────┴───────────────────┴────────────┴──────────────────────────┘"
      ]
     },
     "execution_count": 28,
     "metadata": {},
     "output_type": "execute_result"
    }
   ],
   "source": [
    "ibis.set_backend(\"datafusion\")\n",
    "t = ibis.read_parquet(data)\n",
    "t.order_by(t[\"l_orderkey\"], t[\"l_partkey\"], t[\"l_suppkey\"]).head(3)"
   ]
  },
  {
   "cell_type": "code",
   "execution_count": 29,
   "metadata": {},
   "outputs": [
    {
     "data": {
      "text/html": [
       "<div><style>\n",
       ".dataframe > thead > tr,\n",
       ".dataframe > tbody > tr {\n",
       "  text-align: right;\n",
       "  white-space: pre-wrap;\n",
       "}\n",
       "</style>\n",
       "<small>shape: (3, 16)</small><table border=\"1\" class=\"dataframe\"><thead><tr><th>l_orderkey</th><th>l_partkey</th><th>l_suppkey</th><th>l_linenumber</th><th>l_quantity</th><th>l_extendedprice</th><th>l_discount</th><th>l_tax</th><th>l_returnflag</th><th>l_linestatus</th><th>l_shipdate</th><th>l_commitdate</th><th>l_receiptdate</th><th>l_shipinstruct</th><th>l_shipmode</th><th>l_comment</th></tr><tr><td>i64</td><td>i64</td><td>i64</td><td>i64</td><td>decimal[15,2]</td><td>decimal[15,2]</td><td>decimal[15,2]</td><td>decimal[15,2]</td><td>str</td><td>str</td><td>date</td><td>date</td><td>date</td><td>str</td><td>str</td><td>str</td></tr></thead><tbody><tr><td>1</td><td>2132</td><td>4633</td><td>4</td><td>28.00</td><td>28955.64</td><td>0.09</td><td>0.06</td><td>&quot;N&quot;</td><td>&quot;O&quot;</td><td>1996-04-21</td><td>1996-03-30</td><td>1996-05-16</td><td>&quot;NONE&quot;</td><td>&quot;AIR&quot;</td><td>&quot;s cajole busily above t&quot;</td></tr><tr><td>1</td><td>15635</td><td>638</td><td>6</td><td>32.00</td><td>49620.16</td><td>0.07</td><td>0.02</td><td>&quot;N&quot;</td><td>&quot;O&quot;</td><td>1996-01-30</td><td>1996-02-07</td><td>1996-02-03</td><td>&quot;DELIVER IN PERSON&quot;</td><td>&quot;MAIL&quot;</td><td>&quot;rouches. special &quot;</td></tr><tr><td>1</td><td>24027</td><td>1534</td><td>5</td><td>24.00</td><td>22824.48</td><td>0.10</td><td>0.04</td><td>&quot;N&quot;</td><td>&quot;O&quot;</td><td>1996-03-30</td><td>1996-03-14</td><td>1996-04-01</td><td>&quot;NONE&quot;</td><td>&quot;FOB&quot;</td><td>&quot; the regular, regular pa&quot;</td></tr></tbody></table></div>"
      ],
      "text/plain": [
       "shape: (3, 16)\n",
       "┌───────────┬───────────┬───────────┬───────────┬───┬───────────┬───────────┬───────────┬──────────┐\n",
       "│ l_orderke ┆ l_partkey ┆ l_suppkey ┆ l_linenum ┆ … ┆ l_receipt ┆ l_shipins ┆ l_shipmod ┆ l_commen │\n",
       "│ y         ┆ ---       ┆ ---       ┆ ber       ┆   ┆ date      ┆ truct     ┆ e         ┆ t        │\n",
       "│ ---       ┆ i64       ┆ i64       ┆ ---       ┆   ┆ ---       ┆ ---       ┆ ---       ┆ ---      │\n",
       "│ i64       ┆           ┆           ┆ i64       ┆   ┆ date      ┆ str       ┆ str       ┆ str      │\n",
       "╞═══════════╪═══════════╪═══════════╪═══════════╪═══╪═══════════╪═══════════╪═══════════╪══════════╡\n",
       "│ 1         ┆ 2132      ┆ 4633      ┆ 4         ┆ … ┆ 1996-05-1 ┆ NONE      ┆ AIR       ┆ s cajole │\n",
       "│           ┆           ┆           ┆           ┆   ┆ 6         ┆           ┆           ┆ busily   │\n",
       "│           ┆           ┆           ┆           ┆   ┆           ┆           ┆           ┆ above t  │\n",
       "│ 1         ┆ 15635     ┆ 638       ┆ 6         ┆ … ┆ 1996-02-0 ┆ DELIVER   ┆ MAIL      ┆ rouches. │\n",
       "│           ┆           ┆           ┆           ┆   ┆ 3         ┆ IN PERSON ┆           ┆ special  │\n",
       "│ 1         ┆ 24027     ┆ 1534      ┆ 5         ┆ … ┆ 1996-04-0 ┆ NONE      ┆ FOB       ┆ the      │\n",
       "│           ┆           ┆           ┆           ┆   ┆ 1         ┆           ┆           ┆ regular, │\n",
       "│           ┆           ┆           ┆           ┆   ┆           ┆           ┆           ┆ regular  │\n",
       "│           ┆           ┆           ┆           ┆   ┆           ┆           ┆           ┆ pa       │\n",
       "└───────────┴───────────┴───────────┴───────────┴───┴───────────┴───────────┴───────────┴──────────┘"
      ]
     },
     "execution_count": 29,
     "metadata": {},
     "output_type": "execute_result"
    }
   ],
   "source": [
    "df = pl.scan_parquet(data)\n",
    "(\n",
    "    df.sort(pl.col(\"l_orderkey\"), pl.col(\"l_partkey\"), pl.col(\"l_suppkey\"))\n",
    "    .head(3)\n",
    "    .collect()\n",
    ")"
   ]
  },
  {
   "cell_type": "code",
   "execution_count": 30,
   "metadata": {},
   "outputs": [
    {
     "data": {
      "text/html": [
       "<div><style>\n",
       ".dataframe > thead > tr,\n",
       ".dataframe > tbody > tr {\n",
       "  text-align: right;\n",
       "  white-space: pre-wrap;\n",
       "}\n",
       "</style>\n",
       "<small>shape: (3, 16)</small><table border=\"1\" class=\"dataframe\"><thead><tr><th>l_orderkey</th><th>l_partkey</th><th>l_suppkey</th><th>l_linenumber</th><th>l_quantity</th><th>l_extendedprice</th><th>l_discount</th><th>l_tax</th><th>l_returnflag</th><th>l_linestatus</th><th>l_shipdate</th><th>l_commitdate</th><th>l_receiptdate</th><th>l_shipinstruct</th><th>l_shipmode</th><th>l_comment</th></tr><tr><td>i64</td><td>i64</td><td>i64</td><td>i64</td><td>decimal[15,2]</td><td>decimal[15,2]</td><td>decimal[15,2]</td><td>decimal[15,2]</td><td>str</td><td>str</td><td>date</td><td>date</td><td>date</td><td>str</td><td>str</td><td>str</td></tr></thead><tbody><tr><td>1</td><td>2132</td><td>4633</td><td>4</td><td>28.00</td><td>28955.64</td><td>0.09</td><td>0.06</td><td>&quot;N&quot;</td><td>&quot;O&quot;</td><td>1996-04-21</td><td>1996-03-30</td><td>1996-05-16</td><td>&quot;NONE&quot;</td><td>&quot;AIR&quot;</td><td>&quot;s cajole busily above t&quot;</td></tr><tr><td>1</td><td>15635</td><td>638</td><td>6</td><td>32.00</td><td>49620.16</td><td>0.07</td><td>0.02</td><td>&quot;N&quot;</td><td>&quot;O&quot;</td><td>1996-01-30</td><td>1996-02-07</td><td>1996-02-03</td><td>&quot;DELIVER IN PERSON&quot;</td><td>&quot;MAIL&quot;</td><td>&quot;rouches. special &quot;</td></tr><tr><td>1</td><td>24027</td><td>1534</td><td>5</td><td>24.00</td><td>22824.48</td><td>0.10</td><td>0.04</td><td>&quot;N&quot;</td><td>&quot;O&quot;</td><td>1996-03-30</td><td>1996-03-14</td><td>1996-04-01</td><td>&quot;NONE&quot;</td><td>&quot;FOB&quot;</td><td>&quot; the regular, regular pa&quot;</td></tr></tbody></table></div>"
      ],
      "text/plain": [
       "shape: (3, 16)\n",
       "┌───────────┬───────────┬───────────┬───────────┬───┬───────────┬───────────┬───────────┬──────────┐\n",
       "│ l_orderke ┆ l_partkey ┆ l_suppkey ┆ l_linenum ┆ … ┆ l_receipt ┆ l_shipins ┆ l_shipmod ┆ l_commen │\n",
       "│ y         ┆ ---       ┆ ---       ┆ ber       ┆   ┆ date      ┆ truct     ┆ e         ┆ t        │\n",
       "│ ---       ┆ i64       ┆ i64       ┆ ---       ┆   ┆ ---       ┆ ---       ┆ ---       ┆ ---      │\n",
       "│ i64       ┆           ┆           ┆ i64       ┆   ┆ date      ┆ str       ┆ str       ┆ str      │\n",
       "╞═══════════╪═══════════╪═══════════╪═══════════╪═══╪═══════════╪═══════════╪═══════════╪══════════╡\n",
       "│ 1         ┆ 2132      ┆ 4633      ┆ 4         ┆ … ┆ 1996-05-1 ┆ NONE      ┆ AIR       ┆ s cajole │\n",
       "│           ┆           ┆           ┆           ┆   ┆ 6         ┆           ┆           ┆ busily   │\n",
       "│           ┆           ┆           ┆           ┆   ┆           ┆           ┆           ┆ above t  │\n",
       "│ 1         ┆ 15635     ┆ 638       ┆ 6         ┆ … ┆ 1996-02-0 ┆ DELIVER   ┆ MAIL      ┆ rouches. │\n",
       "│           ┆           ┆           ┆           ┆   ┆ 3         ┆ IN PERSON ┆           ┆ special  │\n",
       "│ 1         ┆ 24027     ┆ 1534      ┆ 5         ┆ … ┆ 1996-04-0 ┆ NONE      ┆ FOB       ┆ the      │\n",
       "│           ┆           ┆           ┆           ┆   ┆ 1         ┆           ┆           ┆ regular, │\n",
       "│           ┆           ┆           ┆           ┆   ┆           ┆           ┆           ┆ regular  │\n",
       "│           ┆           ┆           ┆           ┆   ┆           ┆           ┆           ┆ pa       │\n",
       "└───────────┴───────────┴───────────┴───────────┴───┴───────────┴───────────┴───────────┴──────────┘"
      ]
     },
     "execution_count": 30,
     "metadata": {},
     "output_type": "execute_result"
    }
   ],
   "source": [
    "df = pl.scan_parquet(data)\n",
    "(\n",
    "    df.sort(pl.col(\"l_orderkey\"), pl.col(\"l_partkey\"), pl.col(\"l_suppkey\"))\n",
    "    .head(3)\n",
    "    .collect(streaming=True)\n",
    ")"
   ]
  }
 ],
 "metadata": {
  "kernelspec": {
   "display_name": "etl",
   "language": "python",
   "name": "python3"
  },
  "language_info": {
   "codemirror_mode": {
    "name": "ipython",
    "version": 3
   },
   "file_extension": ".py",
   "mimetype": "text/x-python",
   "name": "python",
   "nbconvert_exporter": "python",
   "pygments_lexer": "ipython3",
   "version": "3.11.9"
  },
  "orig_nbformat": 4
 },
 "nbformat": 4,
 "nbformat_minor": 2
}
