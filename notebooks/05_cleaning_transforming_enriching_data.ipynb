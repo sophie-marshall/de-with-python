{
 "cells": [
  {
   "cell_type": "markdown",
   "metadata": {},
   "source": [
    "# Cleaning, Transforming, and Enriching Data"
   ]
  },
  {
   "cell_type": "markdown",
   "metadata": {},
   "source": [
    "## Transformation Pipelines with Airflow"
   ]
  },
  {
   "cell_type": "code",
   "execution_count": null,
   "metadata": {},
   "outputs": [],
   "source": [
    "import datetime as dt \n",
    "from datetime import timedelta\n",
    "from airflow import DAG \n",
    "from airflow.operators.bash import BashOperator\n",
    "from airflow.operators.python import PythonOperator\n",
    "import pandas as pd \n",
    "\n",
    "# set default args \n",
    "default_args = {\n",
    "    \"owner\": \"srmarshall\", \n",
    "    \"start_date\":dt.datetime(2024, 7, 15), \n",
    "    \"retries\": 1, \n",
    "    \"retry_delay\": timedelta(minutes=5)\n",
    "}\n",
    "\n",
    "# helper functions\n",
    "def clean_data(input_filepath, output_filepath):\n",
    "    df = pd.read_csv(input_filepath)\n",
    "    df.drop(columns=[\"region_id\"], inplace=True)\n",
    "    df.columns=[x.lower() for x in df.columns]\n",
    "    df[\"started_at\"] = pd.to_datetime(df[\"started_at\"], format=\"%m/%d/%Y %H:%M\")\n",
    "    df.to_csv(output_filepath)\n",
    "\n",
    "def filter_data(input_filepath, output_filepath):\n",
    "    df=pd.read_csv(input_filepath)\n",
    "    start_date = \"2019-05-23\"\n",
    "    end_date = \"2019-06-03\"\n",
    "    filtered_df = df[(df[\"started_at\"] > start_date) &\n",
    "                     (df[\"started_at\"] < end_date)]\n",
    "    filtered_df.to_csv(output_filepath)\n",
    "\n",
    "# create date \n",
    "with DAG(\n",
    "    \"clean_scooter_df_dag\", \n",
    "    default_args=default_args, \n",
    "    schedule_interval=timedelta(minutes=5), \n",
    ") as dag:\n",
    "    cleanData = PythonOperator(\n",
    "        task_id=\"CleanRawData\",\n",
    "        python_callable=clean_data, \n",
    "        op_kwargs={\n",
    "            \"input_filepath\": \"/Users/srmarshall/Desktop/code/personal/de-with-python/data/scooter_data.csv\",\n",
    "            \"output_filepath\": \"/Users/srmarshall/Desktop/code/personal/de-with-python/data/clean_scooter_data.csv\"\n",
    "        }, \n",
    "    )\n",
    "\n",
    "    filterData = PythonOperator(\n",
    "        task_id=\"FilterData\", \n",
    "        python_callable=filter_data, \n",
    "        op_kwargs={\n",
    "            \"input_filepath\": \"/Users/srmarshall/Desktop/code/personal/de-with-python/data/clean_scooter_data.csv\", \n",
    "            \"output_filepath\": \"/Users/srmarshall/Desktop/code/personal/de-with-python/data/clean_filtered_scooter_data.csv\"\n",
    "        }, \n",
    "    )\n",
    "\n",
    "    copyFile = BashOperator(\n",
    "        task_id=\"copyToDesktop\", \n",
    "        bash_command=\"cp /Users/srmarshall/Desktop/code/personal/de-with-python/data/clean_filtered_scooter_data.csv /Users/srmarshall/Desktop/\"\n",
    "    )\n",
    "\n",
    "    cleanData >> filterData >> copyFile"
   ]
  }
 ],
 "metadata": {
  "kernelspec": {
   "display_name": "etl",
   "language": "python",
   "name": "python3"
  },
  "language_info": {
   "codemirror_mode": {
    "name": "ipython",
    "version": 3
   },
   "file_extension": ".py",
   "mimetype": "text/x-python",
   "name": "python",
   "nbconvert_exporter": "python",
   "pygments_lexer": "ipython3",
   "version": "3.11.9"
  },
  "orig_nbformat": 4
 },
 "nbformat": 4,
 "nbformat_minor": 2
}
