{
 "cells": [
  {
   "cell_type": "markdown",
   "metadata": {},
   "source": [
    "# Building a Data Pipeline \n",
    "\n",
    "Collection of Code for the `Script Body` parameters of various `ExecuteScript` NiFi processors"
   ]
  },
  {
   "cell_type": "markdown",
   "metadata": {},
   "source": [
    "## Query SeeClickFix API"
   ]
  },
  {
   "cell_type": "code",
   "execution_count": null,
   "metadata": {},
   "outputs": [],
   "source": [
    "# always include these libraries when executing jython in NiFi\n",
    "import java.io\n",
    "from org.apache.commons.io import IOUtils\n",
    "from java.nio.charset import StandardCharsets\n",
    "from org.apache.nifi.processor.io import StreamCallback\n",
    "from org.python.core.util import StringUtil\n",
    "\n",
    "\n",
    "import urllib\n",
    "import urllib2\n",
    "import json\n",
    "\n",
    "class ModJSON(StreamCallback):\n",
    "    \"\"\"\n",
    "    Class to handle SCF API and NiFi operations\n",
    "    \"\"\"\n",
    "    def __init__(self):\n",
    "        pass\n",
    "    def process(self, inputStream, outputStream):\n",
    "        \"\"\"\n",
    "        Make request to SeeClickFix endpoint and write the response to a JSON file \n",
    "\n",
    "        Args: \n",
    "            - inputStream (): \n",
    "            - outputStream ():\n",
    "\n",
    "        Returns:\n",
    "            - FlowFile as a JSON filled with data from the API\n",
    "        \"\"\"\n",
    "        try:\n",
    "           # set location and page params \n",
    "           params = {\n",
    "              \"place_url\": \"downtown_district-of-columbia\", \n",
    "              \"per_page\": \"100\"\n",
    "           }\n",
    "           # construct request URL\n",
    "           url = f\"https://seeclickfix.com/api/v2/issues?{urllib.urlencode(params)}\"\n",
    "           # get data at URL\n",
    "           res = urllib2.urlopen(url).read()\n",
    "           # convert to useable format\n",
    "           data = json.loads(res)\n",
    "           # write flowfile as JSON with data from API\n",
    "           outputStream.write(bytearray(json.dumps(data, indent=4).encode(\"utf-8\")))\n",
    "        except:\n",
    "           # in case of failure, set error state to ensure the Failure relationship is triggered\n",
    "           global errorOccurred\n",
    "           errorOccurred = True\n",
    "           outputStream.write(bytearray(json.dumps(data, indent=4).encode(\"utf-8\")))\n",
    "\n",
    "errorOccurred=False\n",
    "\n",
    "# try and retrieve a FlowFile\n",
    "flowFile = session.get()\n",
    "\n",
    "if (flowFile != None):\n",
    "  # if found, get data from API\n",
    "  flowFile = session.write(flowFile, ModJSON())\n",
    "  #flowFile = session.putAttribute(flowFile) ## SM: commented out for now, dont know why\n",
    "  if(errorOccurred):\n",
    "    # send to failure relationship\n",
    "    session.transfer(flowFile, REL_FAILURE)\n",
    "else:\n",
    "    # send to success relationship\n",
    "    session.transfer(flowFile, REL_SUCCESS)"
   ]
  }
 ],
 "metadata": {
  "language_info": {
   "name": "python"
  },
  "orig_nbformat": 4
 },
 "nbformat": 4,
 "nbformat_minor": 2
}
