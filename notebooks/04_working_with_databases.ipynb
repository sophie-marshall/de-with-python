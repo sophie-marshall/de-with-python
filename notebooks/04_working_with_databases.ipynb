{
 "cells": [
  {
   "cell_type": "markdown",
   "metadata": {},
   "source": [
    "# Working with Databases "
   ]
  },
  {
   "cell_type": "markdown",
   "metadata": {},
   "source": [
    "## Inserting and Extracting Relational Data"
   ]
  },
  {
   "cell_type": "code",
   "execution_count": null,
   "metadata": {
    "vscode": {
     "languageId": "sql"
    }
   },
   "outputs": [],
   "source": [
    "-- create a new table\n",
    "CREATE TABLE users (\n",
    "    id INT,\n",
    "    name VARCHAR(256), \n",
    "    street VARCHAR(256),\n",
    "    city VARCHAR(256),\n",
    "    zip VARCHAR(9)\n",
    ");"
   ]
  },
  {
   "cell_type": "code",
   "execution_count": 11,
   "metadata": {},
   "outputs": [],
   "source": [
    "import psycopg2\n",
    "\n",
    "# set connection string \n",
    "conn_string = \"dbname='de-with-python' host='localhost'\"\n",
    "\n",
    "# creat a connection \n",
    "conn = psycopg2.connect(conn_string)\n",
    "\n",
    "# create a cursor \n",
    "cur = conn.cursor()"
   ]
  },
  {
   "cell_type": "code",
   "execution_count": 14,
   "metadata": {},
   "outputs": [],
   "source": [
    "# define a query \n",
    "query = \"\"\"\n",
    "insert into users (id,name,street,city,zip)\n",
    "    values(%s,%s,%s,%s,%s)\n",
    "\"\"\"\n",
    "\n",
    "# supply data\n",
    "data = (1,'Big Bird','Sesame Street','Fakeville','12345')\n",
    "\n",
    "# preview what will be sent to the database \n",
    "cur.execute(query, data)\n",
    "\n",
    "# commit to db \n",
    "conn.commit()"
   ]
  },
  {
   "cell_type": "code",
   "execution_count": 16,
   "metadata": {},
   "outputs": [],
   "source": [
    "from faker import Faker \n",
    "\n",
    "# instantiate a faker, list to hold data, and id object\n",
    "faker = Faker()\n",
    "data = []\n",
    "i = 2\n",
    "\n",
    "# fill in and udpate values \n",
    "for r in range(1000):\n",
    "    data.append((i, faker.name(), faker.street_address(), faker.city(), faker.zipcode()))\n",
    "    i += 1\n",
    "\n",
    "# convert to tuple for db upsertion \n",
    "db_tuple = tuple(data)\n",
    "\n",
    "# execute the query for the items in the tuple\n",
    "cur.executemany(query, db_tuple)\n",
    "\n",
    "# commit the transaction \n",
    "conn.commit()"
   ]
  }
 ],
 "metadata": {
  "kernelspec": {
   "display_name": "etl",
   "language": "python",
   "name": "python3"
  },
  "language_info": {
   "codemirror_mode": {
    "name": "ipython",
    "version": 3
   },
   "file_extension": ".py",
   "mimetype": "text/x-python",
   "name": "python",
   "nbconvert_exporter": "python",
   "pygments_lexer": "ipython3",
   "version": "3.11.9"
  },
  "orig_nbformat": 4
 },
 "nbformat": 4,
 "nbformat_minor": 2
}
